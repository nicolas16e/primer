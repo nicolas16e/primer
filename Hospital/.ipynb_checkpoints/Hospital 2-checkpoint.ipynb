{
 "cells": [
  {
   "cell_type": "code",
   "execution_count": 1,
   "metadata": {},
   "outputs": [],
   "source": [
    "import pandas as pd\n",
    "import sklearn as sklearn\n",
    "import numpy as np"
   ]
  },
  {
   "cell_type": "code",
   "execution_count": 2,
   "metadata": {},
   "outputs": [
    {
     "data": {
      "text/html": [
       "<div>\n",
       "<style scoped>\n",
       "    .dataframe tbody tr th:only-of-type {\n",
       "        vertical-align: middle;\n",
       "    }\n",
       "\n",
       "    .dataframe tbody tr th {\n",
       "        vertical-align: top;\n",
       "    }\n",
       "\n",
       "    .dataframe thead th {\n",
       "        text-align: right;\n",
       "    }\n",
       "</style>\n",
       "<table border=\"1\" class=\"dataframe\">\n",
       "  <thead>\n",
       "    <tr style=\"text-align: right;\">\n",
       "      <th></th>\n",
       "      <th>numER</th>\n",
       "      <th>mLOSmbed2</th>\n",
       "      <th>mLOSmbed3</th>\n",
       "      <th>sLOSmbed2</th>\n",
       "      <th>sLOSmbed3</th>\n",
       "      <th>numPOB</th>\n",
       "      <th>edMV</th>\n",
       "      <th>iMAmbed1</th>\n",
       "      <th>iMAmbed2</th>\n",
       "      <th>iMAmbed3</th>\n",
       "      <th>...</th>\n",
       "      <th>f1EDLWBS</th>\n",
       "      <th>f2EDRMBLKD</th>\n",
       "      <th>f3tEDd</th>\n",
       "      <th>f4tEDa</th>\n",
       "      <th>f5pSUc</th>\n",
       "      <th>f6tSUc</th>\n",
       "      <th>f7nCUo</th>\n",
       "      <th>f8nPCUo</th>\n",
       "      <th>f9nACUo</th>\n",
       "      <th>yOEE1c</th>\n",
       "    </tr>\n",
       "  </thead>\n",
       "  <tbody>\n",
       "    <tr>\n",
       "      <th>0</th>\n",
       "      <td>18</td>\n",
       "      <td>28782.00</td>\n",
       "      <td>111264.00</td>\n",
       "      <td>23.49</td>\n",
       "      <td>87648.0</td>\n",
       "      <td>5</td>\n",
       "      <td>38.33</td>\n",
       "      <td>10</td>\n",
       "      <td>9</td>\n",
       "      <td>30</td>\n",
       "      <td>...</td>\n",
       "      <td>0.0</td>\n",
       "      <td>0.014368</td>\n",
       "      <td>3524116</td>\n",
       "      <td>45542</td>\n",
       "      <td>0.999920</td>\n",
       "      <td>3435948</td>\n",
       "      <td>30485080</td>\n",
       "      <td>2818658.0</td>\n",
       "      <td>11318836.0</td>\n",
       "      <td>0.810797</td>\n",
       "    </tr>\n",
       "    <tr>\n",
       "      <th>1</th>\n",
       "      <td>19</td>\n",
       "      <td>27054.00</td>\n",
       "      <td>92256.00</td>\n",
       "      <td>29106.00</td>\n",
       "      <td>72096.0</td>\n",
       "      <td>6</td>\n",
       "      <td>39.41</td>\n",
       "      <td>10</td>\n",
       "      <td>11</td>\n",
       "      <td>34</td>\n",
       "      <td>...</td>\n",
       "      <td>0.0</td>\n",
       "      <td>0.013803</td>\n",
       "      <td>3520346</td>\n",
       "      <td>4519388</td>\n",
       "      <td>0.882746</td>\n",
       "      <td>3260574</td>\n",
       "      <td>26854060</td>\n",
       "      <td>1516530.0</td>\n",
       "      <td>1071032.0</td>\n",
       "      <td>0.812715</td>\n",
       "    </tr>\n",
       "    <tr>\n",
       "      <th>2</th>\n",
       "      <td>15</td>\n",
       "      <td>30.51</td>\n",
       "      <td>120.48</td>\n",
       "      <td>22734.00</td>\n",
       "      <td>90528.0</td>\n",
       "      <td>5</td>\n",
       "      <td>27.71</td>\n",
       "      <td>12</td>\n",
       "      <td>13</td>\n",
       "      <td>38</td>\n",
       "      <td>...</td>\n",
       "      <td>0.0</td>\n",
       "      <td>0.012293</td>\n",
       "      <td>353696</td>\n",
       "      <td>4536282</td>\n",
       "      <td>0.617448</td>\n",
       "      <td>1308778</td>\n",
       "      <td>32135080</td>\n",
       "      <td>15645640.0</td>\n",
       "      <td>1474038.0</td>\n",
       "      <td>0.813276</td>\n",
       "    </tr>\n",
       "    <tr>\n",
       "      <th>3</th>\n",
       "      <td>17</td>\n",
       "      <td>24462.00</td>\n",
       "      <td>110112.00</td>\n",
       "      <td>21762.00</td>\n",
       "      <td>103.2</td>\n",
       "      <td>7</td>\n",
       "      <td>41.57</td>\n",
       "      <td>9</td>\n",
       "      <td>12</td>\n",
       "      <td>31</td>\n",
       "      <td>...</td>\n",
       "      <td>0.0</td>\n",
       "      <td>0.017208</td>\n",
       "      <td>3514304</td>\n",
       "      <td>4626366</td>\n",
       "      <td>0.959863</td>\n",
       "      <td>4002396</td>\n",
       "      <td>26565160</td>\n",
       "      <td>1726320.0</td>\n",
       "      <td>197441.4</td>\n",
       "      <td>0.805383</td>\n",
       "    </tr>\n",
       "    <tr>\n",
       "      <th>4</th>\n",
       "      <td>12</td>\n",
       "      <td>24894.00</td>\n",
       "      <td>102048.00</td>\n",
       "      <td>27918.00</td>\n",
       "      <td>101472.0</td>\n",
       "      <td>6</td>\n",
       "      <td>35.45</td>\n",
       "      <td>10</td>\n",
       "      <td>10</td>\n",
       "      <td>24</td>\n",
       "      <td>...</td>\n",
       "      <td>0.0</td>\n",
       "      <td>0.076568</td>\n",
       "      <td>3533516</td>\n",
       "      <td>724904</td>\n",
       "      <td>0.999920</td>\n",
       "      <td>2768574</td>\n",
       "      <td>29818520</td>\n",
       "      <td>6910440.0</td>\n",
       "      <td>516125.6</td>\n",
       "      <td>0.697127</td>\n",
       "    </tr>\n",
       "  </tbody>\n",
       "</table>\n",
       "<p>5 rows × 26 columns</p>\n",
       "</div>"
      ],
      "text/plain": [
       "   numER  mLOSmbed2  mLOSmbed3  sLOSmbed2  sLOSmbed3  numPOB   edMV  iMAmbed1  \\\n",
       "0     18   28782.00  111264.00      23.49    87648.0       5  38.33        10   \n",
       "1     19   27054.00   92256.00   29106.00    72096.0       6  39.41        10   \n",
       "2     15      30.51     120.48   22734.00    90528.0       5  27.71        12   \n",
       "3     17   24462.00  110112.00   21762.00      103.2       7  41.57         9   \n",
       "4     12   24894.00  102048.00   27918.00   101472.0       6  35.45        10   \n",
       "\n",
       "   iMAmbed2  iMAmbed3    ...     f1EDLWBS  f2EDRMBLKD   f3tEDd   f4tEDa  \\\n",
       "0         9        30    ...          0.0    0.014368  3524116    45542   \n",
       "1        11        34    ...          0.0    0.013803  3520346  4519388   \n",
       "2        13        38    ...          0.0    0.012293   353696  4536282   \n",
       "3        12        31    ...          0.0    0.017208  3514304  4626366   \n",
       "4        10        24    ...          0.0    0.076568  3533516   724904   \n",
       "\n",
       "     f5pSUc   f6tSUc    f7nCUo     f8nPCUo     f9nACUo    yOEE1c  \n",
       "0  0.999920  3435948  30485080   2818658.0  11318836.0  0.810797  \n",
       "1  0.882746  3260574  26854060   1516530.0   1071032.0  0.812715  \n",
       "2  0.617448  1308778  32135080  15645640.0   1474038.0  0.813276  \n",
       "3  0.959863  4002396  26565160   1726320.0    197441.4  0.805383  \n",
       "4  0.999920  2768574  29818520   6910440.0    516125.6  0.697127  \n",
       "\n",
       "[5 rows x 26 columns]"
      ]
     },
     "execution_count": 2,
     "metadata": {},
     "output_type": "execute_result"
    }
   ],
   "source": [
    "data=pd.read_csv('Hospital100.csv',sep=';')\n",
    "data.head(n=5)"
   ]
  },
  {
   "cell_type": "code",
   "execution_count": 5,
   "metadata": {},
   "outputs": [],
   "source": [
    "x_train0=data.iloc[:80,:25]\n",
    "x_test0=data.iloc[80:,:25]\n",
    "y_train0=data.iloc[:80,25:]\n",
    "y_test0=data.iloc[80:,25:]"
   ]
  },
  {
   "cell_type": "code",
   "execution_count": 6,
   "metadata": {},
   "outputs": [
    {
     "data": {
      "text/html": [
       "<div>\n",
       "<style scoped>\n",
       "    .dataframe tbody tr th:only-of-type {\n",
       "        vertical-align: middle;\n",
       "    }\n",
       "\n",
       "    .dataframe tbody tr th {\n",
       "        vertical-align: top;\n",
       "    }\n",
       "\n",
       "    .dataframe thead th {\n",
       "        text-align: right;\n",
       "    }\n",
       "</style>\n",
       "<table border=\"1\" class=\"dataframe\">\n",
       "  <thead>\n",
       "    <tr style=\"text-align: right;\">\n",
       "      <th></th>\n",
       "      <th>yOEE1c</th>\n",
       "    </tr>\n",
       "  </thead>\n",
       "  <tbody>\n",
       "    <tr>\n",
       "      <th>80</th>\n",
       "      <td>0.813806</td>\n",
       "    </tr>\n",
       "    <tr>\n",
       "      <th>81</th>\n",
       "      <td>0.810644</td>\n",
       "    </tr>\n",
       "    <tr>\n",
       "      <th>82</th>\n",
       "      <td>0.795894</td>\n",
       "    </tr>\n",
       "    <tr>\n",
       "      <th>83</th>\n",
       "      <td>0.809038</td>\n",
       "    </tr>\n",
       "    <tr>\n",
       "      <th>84</th>\n",
       "      <td>0.809323</td>\n",
       "    </tr>\n",
       "    <tr>\n",
       "      <th>85</th>\n",
       "      <td>0.812660</td>\n",
       "    </tr>\n",
       "    <tr>\n",
       "      <th>86</th>\n",
       "      <td>0.810551</td>\n",
       "    </tr>\n",
       "    <tr>\n",
       "      <th>87</th>\n",
       "      <td>0.810331</td>\n",
       "    </tr>\n",
       "    <tr>\n",
       "      <th>88</th>\n",
       "      <td>0.809146</td>\n",
       "    </tr>\n",
       "    <tr>\n",
       "      <th>89</th>\n",
       "      <td>0.808519</td>\n",
       "    </tr>\n",
       "    <tr>\n",
       "      <th>90</th>\n",
       "      <td>0.813935</td>\n",
       "    </tr>\n",
       "    <tr>\n",
       "      <th>91</th>\n",
       "      <td>0.813486</td>\n",
       "    </tr>\n",
       "    <tr>\n",
       "      <th>92</th>\n",
       "      <td>0.062002</td>\n",
       "    </tr>\n",
       "    <tr>\n",
       "      <th>93</th>\n",
       "      <td>0.813524</td>\n",
       "    </tr>\n",
       "    <tr>\n",
       "      <th>94</th>\n",
       "      <td>0.129198</td>\n",
       "    </tr>\n",
       "    <tr>\n",
       "      <th>95</th>\n",
       "      <td>0.811204</td>\n",
       "    </tr>\n",
       "    <tr>\n",
       "      <th>96</th>\n",
       "      <td>0.804030</td>\n",
       "    </tr>\n",
       "    <tr>\n",
       "      <th>97</th>\n",
       "      <td>0.806900</td>\n",
       "    </tr>\n",
       "    <tr>\n",
       "      <th>98</th>\n",
       "      <td>0.813893</td>\n",
       "    </tr>\n",
       "    <tr>\n",
       "      <th>99</th>\n",
       "      <td>0.815051</td>\n",
       "    </tr>\n",
       "  </tbody>\n",
       "</table>\n",
       "</div>"
      ],
      "text/plain": [
       "      yOEE1c\n",
       "80  0.813806\n",
       "81  0.810644\n",
       "82  0.795894\n",
       "83  0.809038\n",
       "84  0.809323\n",
       "85  0.812660\n",
       "86  0.810551\n",
       "87  0.810331\n",
       "88  0.809146\n",
       "89  0.808519\n",
       "90  0.813935\n",
       "91  0.813486\n",
       "92  0.062002\n",
       "93  0.813524\n",
       "94  0.129198\n",
       "95  0.811204\n",
       "96  0.804030\n",
       "97  0.806900\n",
       "98  0.813893\n",
       "99  0.815051"
      ]
     },
     "execution_count": 6,
     "metadata": {},
     "output_type": "execute_result"
    }
   ],
   "source": [
    "y_test0"
   ]
  },
  {
   "cell_type": "code",
   "execution_count": 7,
   "metadata": {},
   "outputs": [
    {
     "name": "stderr",
     "output_type": "stream",
     "text": [
      "C:\\Users\\Usuario\\Anaconda3\\lib\\site-packages\\sklearn\\preprocessing\\data.py:625: DataConversionWarning: Data with input dtype int64, float64 were all converted to float64 by StandardScaler.\n",
      "  return self.partial_fit(X, y)\n",
      "C:\\Users\\Usuario\\Anaconda3\\lib\\site-packages\\sklearn\\base.py:462: DataConversionWarning: Data with input dtype int64, float64 were all converted to float64 by StandardScaler.\n",
      "  return self.fit(X, **fit_params).transform(X)\n",
      "C:\\Users\\Usuario\\Anaconda3\\lib\\site-packages\\sklearn\\preprocessing\\data.py:625: DataConversionWarning: Data with input dtype int64, float64 were all converted to float64 by StandardScaler.\n",
      "  return self.partial_fit(X, y)\n",
      "C:\\Users\\Usuario\\Anaconda3\\lib\\site-packages\\sklearn\\base.py:462: DataConversionWarning: Data with input dtype int64, float64 were all converted to float64 by StandardScaler.\n",
      "  return self.fit(X, **fit_params).transform(X)\n"
     ]
    }
   ],
   "source": [
    "from sklearn.preprocessing import StandardScaler\n",
    "x_train=StandardScaler().fit_transform(x_train0)\n",
    "x_test=StandardScaler().fit_transform(x_test0)\n",
    "y_train=StandardScaler().fit_transform(y_train0)\n",
    "y_test=StandardScaler().fit_transform(y_test0)"
   ]
  },
  {
   "cell_type": "code",
   "execution_count": 9,
   "metadata": {},
   "outputs": [
    {
     "data": {
      "text/plain": [
       "array([[ 0.35009265],\n",
       "       [ 0.33536027],\n",
       "       [ 0.2666477 ],\n",
       "       [ 0.32787855],\n",
       "       [ 0.32920719],\n",
       "       [ 0.34475202],\n",
       "       [ 0.33492889],\n",
       "       [ 0.33390213],\n",
       "       [ 0.32838261],\n",
       "       [ 0.32545887],\n",
       "       [ 0.35069081],\n",
       "       [ 0.34859817],\n",
       "       [-3.15226594],\n",
       "       [ 0.34877799],\n",
       "       [-2.8392299 ],\n",
       "       [ 0.33796816],\n",
       "       [ 0.30454732],\n",
       "       [ 0.31791659],\n",
       "       [ 0.35049515],\n",
       "       [ 0.35589075]])"
      ]
     },
     "execution_count": 9,
     "metadata": {},
     "output_type": "execute_result"
    }
   ],
   "source": [
    "y_test"
   ]
  },
  {
   "cell_type": "code",
   "execution_count": 10,
   "metadata": {},
   "outputs": [],
   "source": [
    "from sklearn.ensemble import RandomForestRegressor\n",
    "from sklearn.datasets import make_regression"
   ]
  },
  {
   "cell_type": "code",
   "execution_count": 22,
   "metadata": {},
   "outputs": [],
   "source": [
    "reg=RandomForestRegressor(n_estimators=20, random_state=0)\n",
    "x_train,y_train=make_regression(n_features=4, n_informative=2, random_state=0, shuffle=False)\n",
    "reg = RandomForestRegressor(max_depth=2, random_state=0,n_estimators=100)\n",
    "reg.fit(x_train,y_train)\n",
    "y_pred = reg.predict(x_train)"
   ]
  },
  {
   "cell_type": "code",
   "execution_count": 23,
   "metadata": {},
   "outputs": [
    {
     "data": {
      "text/plain": [
       "array([ 29.61901976, -11.02118762,  14.62139516,   9.80192217,\n",
       "         0.49423187,   6.4746029 , -20.32548943,  60.07190209,\n",
       "       -43.63959083,  57.75151636, -42.08374658, -29.21899598,\n",
       "       -26.87520041, -35.5562676 ,  13.00221212, -30.27667951,\n",
       "       -15.30998867, -15.07085954, -14.3798838 , -32.77944477,\n",
       "        17.75011607,  60.75235947,  32.39695083,  34.89481082,\n",
       "        41.82746706, -15.81990323,  38.35651914,  61.7155606 ,\n",
       "        39.8305456 ,   0.21346688, -18.52788719, -15.07085954,\n",
       "        20.03487674, -15.07085954,  -2.64590913,   6.29322227,\n",
       "        53.24909298, -31.72005631, -32.77944477, -11.61409181,\n",
       "        39.8305456 ,  15.42240915,  20.19566646, -11.02118762,\n",
       "       -32.77944477, -39.77817286, -27.75309607,  39.8305456 ,\n",
       "       -29.94592506,  28.81337665, -27.04219045, -27.75309607,\n",
       "        -2.98099169, -10.23166651,  12.18025706, -30.52121188,\n",
       "       -16.64428086, -27.76253299,  12.5021081 , -21.88133368,\n",
       "       -29.93933852, -40.90011089, -43.63959083, -15.69533437,\n",
       "       -41.08038876, -32.77944477,  -6.20818992,  -8.66506067,\n",
       "        28.59436108,  -2.30572014,  32.89788936,  17.79461147,\n",
       "        47.23059518, -11.02118762,  17.79461147,  37.70653973,\n",
       "       -11.89244448,  -0.85142976, -32.77944477, -23.94425492,\n",
       "       -32.77944477, -30.52121188,  21.83863007, -15.04016346,\n",
       "         5.71482632,  -9.18394963, -28.51295606,  15.39850958,\n",
       "       -11.02118762, -32.40402309,  -0.85142976,   5.00684534,\n",
       "       -31.66890516,  -7.69516062, -27.75309607,   0.42991065,\n",
       "       -35.78873883,  15.97409317, -42.33737493,  49.89924108])"
      ]
     },
     "execution_count": 23,
     "metadata": {},
     "output_type": "execute_result"
    }
   ],
   "source": [
    "y_pred"
   ]
  },
  {
   "cell_type": "code",
   "execution_count": 24,
   "metadata": {},
   "outputs": [
    {
     "data": {
      "text/plain": [
       "array([ 49.82290745,   4.87728597,  11.91487464,  19.75307803,\n",
       "        23.60700003, -29.98278439,  -3.18275233,  81.61798896,\n",
       "       -85.87627478,  66.296663  , -70.00907918, -25.41289672,\n",
       "       -40.341885  , -50.80958638,  11.69850317, -26.06617118,\n",
       "       -10.09289693, -16.81772822, -18.84474658, -37.62388016,\n",
       "         6.90439112,  95.27998841,  14.08815923,  37.63961941,\n",
       "        61.23802841,  -7.46245465,  42.37309217,  89.99454831,\n",
       "        47.61800511,  14.11477091, -29.85246699, -19.3463247 ,\n",
       "        27.69980617, -12.73102933,   4.69818239, -15.54546881,\n",
       "        81.10896741, -42.73831876, -43.50103947, -13.81361736,\n",
       "        55.72588193,   3.73964726,  35.17541383,  -4.68693299,\n",
       "       -40.02555297, -54.23600024, -41.92953467,  37.56912025,\n",
       "       -40.71853261,  43.95479823, -15.74495171, -42.13327197,\n",
       "         2.38253778,   0.17626991,  12.60675473, -31.41170946,\n",
       "       -29.41293009, -20.37016177,   3.09183413, -40.10546979,\n",
       "       -26.63729755, -63.60114181, -66.77520312,  -8.00243526,\n",
       "       -62.13849458, -41.68036152, -33.22843061,  -3.04264873,\n",
       "        53.41069146,   6.15068883,  32.59386934,  26.6719395 ,\n",
       "        58.61984841,  10.99216958,  21.92203341,  29.88418279,\n",
       "        -2.08694047,   8.76446094, -48.058451  , -10.66707421,\n",
       "       -42.5262156 , -34.38791803,  17.79006328, -24.60719319,\n",
       "       -20.57401167,   6.40418112, -18.61524357,  23.80290271,\n",
       "         4.40414106, -54.10114237,  14.44189199,   5.17752156,\n",
       "       -44.0304289 ,   8.72306551, -40.48486858, -21.5649097 ,\n",
       "       -55.81801122,  39.38582014, -62.477272  ,  56.57212904])"
      ]
     },
     "execution_count": 24,
     "metadata": {},
     "output_type": "execute_result"
    }
   ],
   "source": [
    "y_train"
   ]
  },
  {
   "cell_type": "code",
   "execution_count": 25,
   "metadata": {},
   "outputs": [
    {
     "data": {
      "text/plain": [
       "0.8435830500065526"
      ]
     },
     "execution_count": 25,
     "metadata": {},
     "output_type": "execute_result"
    }
   ],
   "source": [
    "from sklearn.metrics import r2_score\n",
    "r2_score(y_train, y_pred)"
   ]
  },
  {
   "cell_type": "code",
   "execution_count": 26,
   "metadata": {},
   "outputs": [
    {
     "name": "stdout",
     "output_type": "stream",
     "text": [
      "Mean Absolute Error: 12.672871643060946\n",
      "Mean Squared Error: 232.4546273335677\n",
      "Root Mean Squared Error: 15.246462781037694\n"
     ]
    }
   ],
   "source": [
    "from sklearn import metrics\n",
    "print('Mean Absolute Error:', metrics.mean_absolute_error(y_train, y_pred))  \n",
    "print('Mean Squared Error:', metrics.mean_squared_error(y_train, y_pred))  \n",
    "print('Root Mean Squared Error:', np.sqrt(metrics.mean_squared_error(y_train, y_pred)))"
   ]
  },
  {
   "cell_type": "code",
   "execution_count": 27,
   "metadata": {},
   "outputs": [],
   "source": [
    "from sklearn.model_selection import cross_validate\n",
    "from sklearn.metrics.scorer import make_scorer\n",
    "from sklearn.metrics import confusion_matrix"
   ]
  },
  {
   "cell_type": "code",
   "execution_count": 29,
   "metadata": {},
   "outputs": [
    {
     "name": "stderr",
     "output_type": "stream",
     "text": [
      "C:\\Users\\Usuario\\Anaconda3\\lib\\site-packages\\sklearn\\model_selection\\_validation.py:528: DataConversionWarning: A column-vector y was passed when a 1d array was expected. Please change the shape of y to (n_samples,), for example using ravel().\n",
      "  estimator.fit(X_train, y_train, **fit_params)\n",
      "C:\\Users\\Usuario\\Anaconda3\\lib\\site-packages\\sklearn\\model_selection\\_validation.py:528: DataConversionWarning: A column-vector y was passed when a 1d array was expected. Please change the shape of y to (n_samples,), for example using ravel().\n",
      "  estimator.fit(X_train, y_train, **fit_params)\n",
      "C:\\Users\\Usuario\\Anaconda3\\lib\\site-packages\\sklearn\\model_selection\\_validation.py:528: DataConversionWarning: A column-vector y was passed when a 1d array was expected. Please change the shape of y to (n_samples,), for example using ravel().\n",
      "  estimator.fit(X_train, y_train, **fit_params)\n"
     ]
    },
    {
     "data": {
      "text/plain": [
       "array([-168.05512984,    0.38283916,    0.49919544])"
      ]
     },
     "execution_count": 29,
     "metadata": {},
     "output_type": "execute_result"
    }
   ],
   "source": [
    "cv_results = cross_validate(reg, x_test, y_test, cv=3)\n",
    "sorted(cv_results.keys()) \n",
    "cv_results['test_score'] "
   ]
  },
  {
   "cell_type": "code",
   "execution_count": null,
   "metadata": {},
   "outputs": [],
   "source": []
  },
  {
   "cell_type": "code",
   "execution_count": null,
   "metadata": {},
   "outputs": [],
   "source": []
  }
 ],
 "metadata": {
  "kernelspec": {
   "display_name": "Python 3",
   "language": "python",
   "name": "python3"
  },
  "language_info": {
   "codemirror_mode": {
    "name": "ipython",
    "version": 3
   },
   "file_extension": ".py",
   "mimetype": "text/x-python",
   "name": "python",
   "nbconvert_exporter": "python",
   "pygments_lexer": "ipython3",
   "version": "3.7.1"
  }
 },
 "nbformat": 4,
 "nbformat_minor": 2
}
