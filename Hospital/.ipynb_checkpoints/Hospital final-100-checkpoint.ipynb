{
 "cells": [
  {
   "cell_type": "code",
   "execution_count": 82,
   "metadata": {},
   "outputs": [],
   "source": [
    "import pandas as pd\n",
    "import sklearn as sklearn\n",
    "import numpy as np\n",
    "import matplotlib.pyplot as plt"
   ]
  },
  {
   "cell_type": "code",
   "execution_count": 83,
   "metadata": {},
   "outputs": [],
   "source": [
    "data=pd.read_csv('Hospital100.csv',sep=';')"
   ]
  },
  {
   "cell_type": "code",
   "execution_count": 84,
   "metadata": {},
   "outputs": [],
   "source": [
    "X=data.iloc[:,0:25]\n",
    "y=data.iloc[:,25]"
   ]
  },
  {
   "cell_type": "code",
   "execution_count": 85,
   "metadata": {},
   "outputs": [],
   "source": [
    "from sklearn.model_selection import train_test_split  \n",
    "X_train, X_test, y_train, y_test = train_test_split(X, y, test_size=0.2, random_state=0) "
   ]
  },
  {
   "cell_type": "code",
   "execution_count": 86,
   "metadata": {},
   "outputs": [
    {
     "name": "stderr",
     "output_type": "stream",
     "text": [
      "C:\\Users\\Usuario\\Anaconda3\\lib\\site-packages\\sklearn\\preprocessing\\data.py:625: DataConversionWarning: Data with input dtype int64, float64 were all converted to float64 by StandardScaler.\n",
      "  return self.partial_fit(X, y)\n",
      "C:\\Users\\Usuario\\Anaconda3\\lib\\site-packages\\sklearn\\base.py:462: DataConversionWarning: Data with input dtype int64, float64 were all converted to float64 by StandardScaler.\n",
      "  return self.fit(X, **fit_params).transform(X)\n",
      "C:\\Users\\Usuario\\Anaconda3\\lib\\site-packages\\sklearn\\preprocessing\\data.py:625: DataConversionWarning: Data with input dtype int64, float64 were all converted to float64 by StandardScaler.\n",
      "  return self.partial_fit(X, y)\n",
      "C:\\Users\\Usuario\\Anaconda3\\lib\\site-packages\\sklearn\\base.py:462: DataConversionWarning: Data with input dtype int64, float64 were all converted to float64 by StandardScaler.\n",
      "  return self.fit(X, **fit_params).transform(X)\n"
     ]
    }
   ],
   "source": [
    "from sklearn.preprocessing import StandardScaler   \n",
    "X_train = StandardScaler().fit_transform(X_train)\n",
    "X_test = StandardScaler().fit_transform(X_test)"
   ]
  },
  {
   "cell_type": "markdown",
   "metadata": {},
   "source": [
    "# MLP Regressor"
   ]
  },
  {
   "cell_type": "code",
   "execution_count": 87,
   "metadata": {},
   "outputs": [],
   "source": [
    "from sklearn.neural_network import MLPRegressor"
   ]
  },
  {
   "cell_type": "code",
   "execution_count": 88,
   "metadata": {},
   "outputs": [],
   "source": [
    "nn=MLPRegressor()"
   ]
  },
  {
   "cell_type": "code",
   "execution_count": 89,
   "metadata": {},
   "outputs": [],
   "source": [
    "from sklearn.model_selection import GridSearchCV"
   ]
  },
  {
   "cell_type": "code",
   "execution_count": 90,
   "metadata": {},
   "outputs": [],
   "source": [
    "grid_param_nn = {  \n",
    "    'hidden_layer_sizes': [50,100,200],\n",
    "    'activation': ['relu','logistic'],\n",
    "    'solver': ['adam','sgd']\n",
    "}"
   ]
  },
  {
   "cell_type": "code",
   "execution_count": 91,
   "metadata": {},
   "outputs": [],
   "source": [
    "gd_sr_nn = GridSearchCV(estimator=nn,  \n",
    "                     param_grid=grid_param_nn,\n",
    "                     cv=5,\n",
    "                     n_jobs=-1)"
   ]
  },
  {
   "cell_type": "code",
   "execution_count": 92,
   "metadata": {},
   "outputs": [
    {
     "data": {
      "text/plain": [
       "GridSearchCV(cv=5, error_score='raise-deprecating',\n",
       "       estimator=MLPRegressor(activation='relu', alpha=0.0001, batch_size='auto', beta_1=0.9,\n",
       "       beta_2=0.999, early_stopping=False, epsilon=1e-08,\n",
       "       hidden_layer_sizes=(100,), learning_rate='constant',\n",
       "       learning_rate_init=0.001, max_iter=200, momentum=0.9,\n",
       "       n_iter_no_change=10, nesterovs_momentum=True, power_t=0.5,\n",
       "       random_state=None, shuffle=True, solver='adam', tol=0.0001,\n",
       "       validation_fraction=0.1, verbose=False, warm_start=False),\n",
       "       fit_params=None, iid='warn', n_jobs=-1,\n",
       "       param_grid={'hidden_layer_sizes': [50, 100, 200], 'activation': ['relu', 'logistic'], 'solver': ['adam', 'sgd']},\n",
       "       pre_dispatch='2*n_jobs', refit=True, return_train_score='warn',\n",
       "       scoring=None, verbose=0)"
      ]
     },
     "execution_count": 92,
     "metadata": {},
     "output_type": "execute_result"
    }
   ],
   "source": [
    "gd_sr_nn.fit(X_train, y_train)"
   ]
  },
  {
   "cell_type": "code",
   "execution_count": 93,
   "metadata": {},
   "outputs": [
    {
     "name": "stdout",
     "output_type": "stream",
     "text": [
      "{'activation': 'logistic', 'hidden_layer_sizes': 50, 'solver': 'adam'}\n"
     ]
    }
   ],
   "source": [
    "best_parameters = gd_sr_nn.best_params_  \n",
    "print(best_parameters)"
   ]
  },
  {
   "cell_type": "code",
   "execution_count": 94,
   "metadata": {},
   "outputs": [
    {
     "name": "stdout",
     "output_type": "stream",
     "text": [
      "0.7380450498473172\n"
     ]
    }
   ],
   "source": [
    "best_result = gd_sr_nn.best_score_  \n",
    "print(best_result) "
   ]
  },
  {
   "cell_type": "code",
   "execution_count": 102,
   "metadata": {},
   "outputs": [],
   "source": [
    "nn1=MLPRegressor(activation='logistic', hidden_layer_sizes=50, solver='adam')"
   ]
  },
  {
   "cell_type": "code",
   "execution_count": 103,
   "metadata": {},
   "outputs": [],
   "source": [
    "nn2=nn1.fit(X_train,y_train)"
   ]
  },
  {
   "cell_type": "code",
   "execution_count": 104,
   "metadata": {},
   "outputs": [],
   "source": [
    "y_nn=nn2.predict(X_train)"
   ]
  },
  {
   "cell_type": "code",
   "execution_count": 124,
   "metadata": {},
   "outputs": [
    {
     "data": {
      "text/plain": [
       "array([0.696644  , 0.23516355, 0.82798735, 0.85216821, 0.6836115 ,\n",
       "       0.3540459 , 0.71700938, 0.7862429 , 0.733702  , 0.73694858,\n",
       "       0.69868331, 0.79136724, 0.84242804, 0.83496889, 0.65128166,\n",
       "       0.7331685 , 0.74280637, 0.06524857, 0.88663419, 0.78842972,\n",
       "       0.78746921, 0.79725995, 0.74590133, 0.78352715, 0.73248326,\n",
       "       0.74890862, 0.24850699, 0.8777059 , 0.754044  , 0.75822729,\n",
       "       0.86113452, 0.85503692, 0.73138806, 0.72772795, 0.81437805,\n",
       "       0.76794948, 0.17229874, 0.60838246, 0.78890351, 0.75851413,\n",
       "       0.82106613, 0.77902624, 0.85837897, 0.8283006 , 0.83609591,\n",
       "       0.85539698, 0.8513733 , 0.84657632, 0.16586897, 0.68719472,\n",
       "       0.7035637 , 0.89331438, 0.69931013, 0.74916617, 0.79471557,\n",
       "       0.71546105, 0.28581207, 0.24283223, 0.81006575, 0.7369708 ,\n",
       "       0.84600209, 0.29266674, 0.72421976, 0.78952046, 0.84430495,\n",
       "       0.77009604, 0.39056272, 0.6720889 , 0.79232595, 0.80915195,\n",
       "       0.72854978, 0.85228513, 0.82725204, 0.83216244, 0.82726889,\n",
       "       0.65704769, 0.67657123, 0.85285446, 0.70302697, 0.71985737])"
      ]
     },
     "execution_count": 124,
     "metadata": {},
     "output_type": "execute_result"
    }
   ],
   "source": [
    "y_pred"
   ]
  },
  {
   "cell_type": "code",
   "execution_count": 125,
   "metadata": {},
   "outputs": [
    {
     "data": {
      "text/plain": [
       "43    0.805063\n",
       "62    0.086511\n",
       "3     0.805383\n",
       "71    0.809374\n",
       "45    0.808635\n",
       "48    0.123096\n",
       "6     0.814093\n",
       "99    0.815051\n",
       "82    0.795894\n",
       "76    0.814610\n",
       "60    0.812810\n",
       "80    0.813806\n",
       "90    0.813935\n",
       "68    0.812975\n",
       "51    0.808911\n",
       "27    0.815270\n",
       "18    0.814028\n",
       "56    0.074773\n",
       "63    0.814599\n",
       "74    0.811738\n",
       "1     0.812715\n",
       "61    0.809403\n",
       "42    0.809614\n",
       "41    0.808932\n",
       "4     0.697127\n",
       "15    0.812752\n",
       "17    0.081508\n",
       "40    0.814699\n",
       "38    0.805867\n",
       "5     0.811851\n",
       "        ...   \n",
       "19    0.807777\n",
       "29    0.813460\n",
       "49    0.810393\n",
       "97    0.806900\n",
       "98    0.813893\n",
       "69    0.812647\n",
       "20    0.122854\n",
       "94    0.129198\n",
       "72    0.804327\n",
       "77    0.813944\n",
       "25    0.802443\n",
       "37    0.103765\n",
       "81    0.810644\n",
       "46    0.815202\n",
       "39    0.811330\n",
       "65    0.810401\n",
       "58    0.126808\n",
       "12    0.812490\n",
       "88    0.809146\n",
       "70    0.804487\n",
       "87    0.810331\n",
       "36    0.812499\n",
       "21    0.811075\n",
       "83    0.809038\n",
       "9     0.806201\n",
       "96    0.804030\n",
       "67    0.815623\n",
       "64    0.812827\n",
       "47    0.810875\n",
       "44    0.812567\n",
       "Name: yOEE1c, Length: 80, dtype: float64"
      ]
     },
     "execution_count": 125,
     "metadata": {},
     "output_type": "execute_result"
    }
   ],
   "source": [
    "y_train"
   ]
  },
  {
   "cell_type": "code",
   "execution_count": 107,
   "metadata": {},
   "outputs": [],
   "source": [
    "n = {'nn': y_nn}\n",
    "y_pred_nn = pd.DataFrame(n)\n",
    "#y_pred_nn"
   ]
  },
  {
   "cell_type": "code",
   "execution_count": 123,
   "metadata": {},
   "outputs": [
    {
     "data": {
      "image/png": "[encoded data removed]",
      "text/plain": [
       "<Figure size 432x288 with 1 Axes>"
      ]
     },
     "metadata": {
      "needs_background": "light"
     },
     "output_type": "display_data"
    }
   ],
   "source": [
    "plt.plot(y_pred_nn,y_pred_nn,'o',y_pred_nn,y_train,'rd')\n",
    "plt.show()"
   ]
  },
  {
   "cell_type": "markdown",
   "metadata": {},
   "source": [
    "# Random Forest Regressor"
   ]
  },
  {
   "cell_type": "code",
   "execution_count": 72,
   "metadata": {},
   "outputs": [],
   "source": [
    "from sklearn.ensemble import RandomForestRegressor\n",
    "from sklearn.datasets import make_regression"
   ]
  },
  {
   "cell_type": "code",
   "execution_count": 73,
   "metadata": {},
   "outputs": [],
   "source": [
    "X_train, y_train = make_regression(n_features=4, n_informative=2,random_state=0, shuffle=False)\n",
    "regr = RandomForestRegressor(max_depth=2, random_state=0,n_estimators=100,)"
   ]
  },
  {
   "cell_type": "code",
   "execution_count": 74,
   "metadata": {},
   "outputs": [],
   "source": [
    "grid_param_rfr = {  \n",
    "    'n_estimators': [50,100, 200],\n",
    "    'random_state': [0,1,2],\n",
    "    'max_depth': [2,3]\n",
    "}"
   ]
  },
  {
   "cell_type": "code",
   "execution_count": 75,
   "metadata": {},
   "outputs": [],
   "source": [
    "gd_sr_rfr = GridSearchCV(estimator=regr,  \n",
    "                     param_grid=grid_param_rfr,\n",
    "                     cv=5,\n",
    "                     n_jobs=-1)"
   ]
  },
  {
   "cell_type": "code",
   "execution_count": 76,
   "metadata": {},
   "outputs": [
    {
     "data": {
      "text/plain": [
       "GridSearchCV(cv=5, error_score='raise-deprecating',\n",
       "       estimator=RandomForestRegressor(bootstrap=True, criterion='mse', max_depth=2,\n",
       "           max_features='auto', max_leaf_nodes=None,\n",
       "           min_impurity_decrease=0.0, min_impurity_split=None,\n",
       "           min_samples_leaf=1, min_samples_split=2,\n",
       "           min_weight_fraction_leaf=0.0, n_estimators=100, n_jobs=None,\n",
       "           oob_score=False, random_state=0, verbose=0, warm_start=False),\n",
       "       fit_params=None, iid='warn', n_jobs=-1,\n",
       "       param_grid={'n_estimators': [50, 100, 200], 'random_state': [0, 1, 2], 'max_depth': [2, 3]},\n",
       "       pre_dispatch='2*n_jobs', refit=True, return_train_score='warn',\n",
       "       scoring=None, verbose=0)"
      ]
     },
     "execution_count": 76,
     "metadata": {},
     "output_type": "execute_result"
    }
   ],
   "source": [
    "gd_sr_rfr.fit(X_train, y_train)"
   ]
  },
  {
   "cell_type": "code",
   "execution_count": 77,
   "metadata": {},
   "outputs": [
    {
     "name": "stdout",
     "output_type": "stream",
     "text": [
      "{'max_depth': 3, 'n_estimators': 50, 'random_state': 1}\n"
     ]
    }
   ],
   "source": [
    "best_parameters = gd_sr_rfr.best_params_  \n",
    "print(best_parameters)"
   ]
  },
  {
   "cell_type": "code",
   "execution_count": 78,
   "metadata": {},
   "outputs": [
    {
     "name": "stdout",
     "output_type": "stream",
     "text": [
      "0.8772616612953058\n"
     ]
    }
   ],
   "source": [
    "best_result = gd_sr_rfr.best_score_  \n",
    "print(best_result) "
   ]
  },
  {
   "cell_type": "code",
   "execution_count": 113,
   "metadata": {},
   "outputs": [],
   "source": [
    "rfr1=RandomForestRegressor(max_depth=3, random_state=1,n_estimators=50,)"
   ]
  },
  {
   "cell_type": "code",
   "execution_count": 114,
   "metadata": {},
   "outputs": [],
   "source": [
    "rfr2=rfr1.fit(X_train,y_train)"
   ]
  },
  {
   "cell_type": "code",
   "execution_count": 115,
   "metadata": {},
   "outputs": [],
   "source": [
    "y_rfr=rfr2.predict(X_train)"
   ]
  },
  {
   "cell_type": "code",
   "execution_count": 116,
   "metadata": {},
   "outputs": [
    {
     "data": {
      "text/plain": [
       "array([0.8082127 , 0.08759199, 0.80658486, 0.80881535, 0.80850394,\n",
       "       0.13833801, 0.81299902, 0.81332023, 0.80229175, 0.81332023,\n",
       "       0.81279079, 0.81299902, 0.81323748, 0.81312335, 0.80850394,\n",
       "       0.81323748, 0.81328025, 0.08121064, 0.81332023, 0.80965672,\n",
       "       0.81283282, 0.80850394, 0.80843162, 0.80881535, 0.7415719 ,\n",
       "       0.8128023 , 0.08479496, 0.81332023, 0.8082127 , 0.81288688,\n",
       "       0.81319749, 0.81323748, 0.81108754, 0.81323748, 0.81283282,\n",
       "       0.80153968, 0.08590031, 0.80850394, 0.80874302, 0.81291558,\n",
       "       0.81332023, 0.80869897, 0.80843162, 0.80850394, 0.80965672,\n",
       "       0.81301415, 0.81323748, 0.80941707, 0.10918997, 0.80841784,\n",
       "       0.80834551, 0.81319749, 0.80937039, 0.80841784, 0.81323748,\n",
       "       0.81276028, 0.14158166, 0.11520206, 0.80814038, 0.81291739,\n",
       "       0.80643306, 0.10956499, 0.80850394, 0.81323662, 0.81276028,\n",
       "       0.80850394, 0.11702   , 0.81242653, 0.80850394, 0.80750021,\n",
       "       0.80937039, 0.81283282, 0.81276028, 0.80869897, 0.80814038,\n",
       "       0.8082127 , 0.81332023, 0.81283282, 0.80935327, 0.81296851])"
      ]
     },
     "execution_count": 116,
     "metadata": {},
     "output_type": "execute_result"
    }
   ],
   "source": [
    "y_rfr"
   ]
  },
  {
   "cell_type": "code",
   "execution_count": 117,
   "metadata": {},
   "outputs": [
    {
     "data": {
      "text/plain": [
       "43    0.805063\n",
       "62    0.086511\n",
       "3     0.805383\n",
       "71    0.809374\n",
       "45    0.808635\n",
       "48    0.123096\n",
       "6     0.814093\n",
       "99    0.815051\n",
       "82    0.795894\n",
       "76    0.814610\n",
       "60    0.812810\n",
       "80    0.813806\n",
       "90    0.813935\n",
       "68    0.812975\n",
       "51    0.808911\n",
       "27    0.815270\n",
       "18    0.814028\n",
       "56    0.074773\n",
       "63    0.814599\n",
       "74    0.811738\n",
       "1     0.812715\n",
       "61    0.809403\n",
       "42    0.809614\n",
       "41    0.808932\n",
       "4     0.697127\n",
       "15    0.812752\n",
       "17    0.081508\n",
       "40    0.814699\n",
       "38    0.805867\n",
       "5     0.811851\n",
       "        ...   \n",
       "19    0.807777\n",
       "29    0.813460\n",
       "49    0.810393\n",
       "97    0.806900\n",
       "98    0.813893\n",
       "69    0.812647\n",
       "20    0.122854\n",
       "94    0.129198\n",
       "72    0.804327\n",
       "77    0.813944\n",
       "25    0.802443\n",
       "37    0.103765\n",
       "81    0.810644\n",
       "46    0.815202\n",
       "39    0.811330\n",
       "65    0.810401\n",
       "58    0.126808\n",
       "12    0.812490\n",
       "88    0.809146\n",
       "70    0.804487\n",
       "87    0.810331\n",
       "36    0.812499\n",
       "21    0.811075\n",
       "83    0.809038\n",
       "9     0.806201\n",
       "96    0.804030\n",
       "67    0.815623\n",
       "64    0.812827\n",
       "47    0.810875\n",
       "44    0.812567\n",
       "Name: yOEE1c, Length: 80, dtype: float64"
      ]
     },
     "execution_count": 117,
     "metadata": {},
     "output_type": "execute_result"
    }
   ],
   "source": [
    "y_train"
   ]
  },
  {
   "cell_type": "code",
   "execution_count": 118,
   "metadata": {},
   "outputs": [
    {
     "data": {
      "text/html": [
       "<div>\n",
       "<style scoped>\n",
       "    .dataframe tbody tr th:only-of-type {\n",
       "        vertical-align: middle;\n",
       "    }\n",
       "\n",
       "    .dataframe tbody tr th {\n",
       "        vertical-align: top;\n",
       "    }\n",
       "\n",
       "    .dataframe thead th {\n",
       "        text-align: right;\n",
       "    }\n",
       "</style>\n",
       "<table border=\"1\" class=\"dataframe\">\n",
       "  <thead>\n",
       "    <tr style=\"text-align: right;\">\n",
       "      <th></th>\n",
       "      <th>nn</th>\n",
       "    </tr>\n",
       "  </thead>\n",
       "  <tbody>\n",
       "    <tr>\n",
       "      <th>0</th>\n",
       "      <td>0.808213</td>\n",
       "    </tr>\n",
       "    <tr>\n",
       "      <th>1</th>\n",
       "      <td>0.087592</td>\n",
       "    </tr>\n",
       "    <tr>\n",
       "      <th>2</th>\n",
       "      <td>0.806585</td>\n",
       "    </tr>\n",
       "    <tr>\n",
       "      <th>3</th>\n",
       "      <td>0.808815</td>\n",
       "    </tr>\n",
       "    <tr>\n",
       "      <th>4</th>\n",
       "      <td>0.808504</td>\n",
       "    </tr>\n",
       "    <tr>\n",
       "      <th>5</th>\n",
       "      <td>0.138338</td>\n",
       "    </tr>\n",
       "    <tr>\n",
       "      <th>6</th>\n",
       "      <td>0.812999</td>\n",
       "    </tr>\n",
       "    <tr>\n",
       "      <th>7</th>\n",
       "      <td>0.813320</td>\n",
       "    </tr>\n",
       "    <tr>\n",
       "      <th>8</th>\n",
       "      <td>0.802292</td>\n",
       "    </tr>\n",
       "    <tr>\n",
       "      <th>9</th>\n",
       "      <td>0.813320</td>\n",
       "    </tr>\n",
       "    <tr>\n",
       "      <th>10</th>\n",
       "      <td>0.812791</td>\n",
       "    </tr>\n",
       "    <tr>\n",
       "      <th>11</th>\n",
       "      <td>0.812999</td>\n",
       "    </tr>\n",
       "    <tr>\n",
       "      <th>12</th>\n",
       "      <td>0.813237</td>\n",
       "    </tr>\n",
       "    <tr>\n",
       "      <th>13</th>\n",
       "      <td>0.813123</td>\n",
       "    </tr>\n",
       "    <tr>\n",
       "      <th>14</th>\n",
       "      <td>0.808504</td>\n",
       "    </tr>\n",
       "    <tr>\n",
       "      <th>15</th>\n",
       "      <td>0.813237</td>\n",
       "    </tr>\n",
       "    <tr>\n",
       "      <th>16</th>\n",
       "      <td>0.813280</td>\n",
       "    </tr>\n",
       "    <tr>\n",
       "      <th>17</th>\n",
       "      <td>0.081211</td>\n",
       "    </tr>\n",
       "    <tr>\n",
       "      <th>18</th>\n",
       "      <td>0.813320</td>\n",
       "    </tr>\n",
       "    <tr>\n",
       "      <th>19</th>\n",
       "      <td>0.809657</td>\n",
       "    </tr>\n",
       "    <tr>\n",
       "      <th>20</th>\n",
       "      <td>0.812833</td>\n",
       "    </tr>\n",
       "    <tr>\n",
       "      <th>21</th>\n",
       "      <td>0.808504</td>\n",
       "    </tr>\n",
       "    <tr>\n",
       "      <th>22</th>\n",
       "      <td>0.808432</td>\n",
       "    </tr>\n",
       "    <tr>\n",
       "      <th>23</th>\n",
       "      <td>0.808815</td>\n",
       "    </tr>\n",
       "    <tr>\n",
       "      <th>24</th>\n",
       "      <td>0.741572</td>\n",
       "    </tr>\n",
       "    <tr>\n",
       "      <th>25</th>\n",
       "      <td>0.812802</td>\n",
       "    </tr>\n",
       "    <tr>\n",
       "      <th>26</th>\n",
       "      <td>0.084795</td>\n",
       "    </tr>\n",
       "    <tr>\n",
       "      <th>27</th>\n",
       "      <td>0.813320</td>\n",
       "    </tr>\n",
       "    <tr>\n",
       "      <th>28</th>\n",
       "      <td>0.808213</td>\n",
       "    </tr>\n",
       "    <tr>\n",
       "      <th>29</th>\n",
       "      <td>0.812887</td>\n",
       "    </tr>\n",
       "    <tr>\n",
       "      <th>...</th>\n",
       "      <td>...</td>\n",
       "    </tr>\n",
       "    <tr>\n",
       "      <th>50</th>\n",
       "      <td>0.808346</td>\n",
       "    </tr>\n",
       "    <tr>\n",
       "      <th>51</th>\n",
       "      <td>0.813197</td>\n",
       "    </tr>\n",
       "    <tr>\n",
       "      <th>52</th>\n",
       "      <td>0.809370</td>\n",
       "    </tr>\n",
       "    <tr>\n",
       "      <th>53</th>\n",
       "      <td>0.808418</td>\n",
       "    </tr>\n",
       "    <tr>\n",
       "      <th>54</th>\n",
       "      <td>0.813237</td>\n",
       "    </tr>\n",
       "    <tr>\n",
       "      <th>55</th>\n",
       "      <td>0.812760</td>\n",
       "    </tr>\n",
       "    <tr>\n",
       "      <th>56</th>\n",
       "      <td>0.141582</td>\n",
       "    </tr>\n",
       "    <tr>\n",
       "      <th>57</th>\n",
       "      <td>0.115202</td>\n",
       "    </tr>\n",
       "    <tr>\n",
       "      <th>58</th>\n",
       "      <td>0.808140</td>\n",
       "    </tr>\n",
       "    <tr>\n",
       "      <th>59</th>\n",
       "      <td>0.812917</td>\n",
       "    </tr>\n",
       "    <tr>\n",
       "      <th>60</th>\n",
       "      <td>0.806433</td>\n",
       "    </tr>\n",
       "    <tr>\n",
       "      <th>61</th>\n",
       "      <td>0.109565</td>\n",
       "    </tr>\n",
       "    <tr>\n",
       "      <th>62</th>\n",
       "      <td>0.808504</td>\n",
       "    </tr>\n",
       "    <tr>\n",
       "      <th>63</th>\n",
       "      <td>0.813237</td>\n",
       "    </tr>\n",
       "    <tr>\n",
       "      <th>64</th>\n",
       "      <td>0.812760</td>\n",
       "    </tr>\n",
       "    <tr>\n",
       "      <th>65</th>\n",
       "      <td>0.808504</td>\n",
       "    </tr>\n",
       "    <tr>\n",
       "      <th>66</th>\n",
       "      <td>0.117020</td>\n",
       "    </tr>\n",
       "    <tr>\n",
       "      <th>67</th>\n",
       "      <td>0.812427</td>\n",
       "    </tr>\n",
       "    <tr>\n",
       "      <th>68</th>\n",
       "      <td>0.808504</td>\n",
       "    </tr>\n",
       "    <tr>\n",
       "      <th>69</th>\n",
       "      <td>0.807500</td>\n",
       "    </tr>\n",
       "    <tr>\n",
       "      <th>70</th>\n",
       "      <td>0.809370</td>\n",
       "    </tr>\n",
       "    <tr>\n",
       "      <th>71</th>\n",
       "      <td>0.812833</td>\n",
       "    </tr>\n",
       "    <tr>\n",
       "      <th>72</th>\n",
       "      <td>0.812760</td>\n",
       "    </tr>\n",
       "    <tr>\n",
       "      <th>73</th>\n",
       "      <td>0.808699</td>\n",
       "    </tr>\n",
       "    <tr>\n",
       "      <th>74</th>\n",
       "      <td>0.808140</td>\n",
       "    </tr>\n",
       "    <tr>\n",
       "      <th>75</th>\n",
       "      <td>0.808213</td>\n",
       "    </tr>\n",
       "    <tr>\n",
       "      <th>76</th>\n",
       "      <td>0.813320</td>\n",
       "    </tr>\n",
       "    <tr>\n",
       "      <th>77</th>\n",
       "      <td>0.812833</td>\n",
       "    </tr>\n",
       "    <tr>\n",
       "      <th>78</th>\n",
       "      <td>0.809353</td>\n",
       "    </tr>\n",
       "    <tr>\n",
       "      <th>79</th>\n",
       "      <td>0.812969</td>\n",
       "    </tr>\n",
       "  </tbody>\n",
       "</table>\n",
       "<p>80 rows × 1 columns</p>\n",
       "</div>"
      ],
      "text/plain": [
       "          nn\n",
       "0   0.808213\n",
       "1   0.087592\n",
       "2   0.806585\n",
       "3   0.808815\n",
       "4   0.808504\n",
       "5   0.138338\n",
       "6   0.812999\n",
       "7   0.813320\n",
       "8   0.802292\n",
       "9   0.813320\n",
       "10  0.812791\n",
       "11  0.812999\n",
       "12  0.813237\n",
       "13  0.813123\n",
       "14  0.808504\n",
       "15  0.813237\n",
       "16  0.813280\n",
       "17  0.081211\n",
       "18  0.813320\n",
       "19  0.809657\n",
       "20  0.812833\n",
       "21  0.808504\n",
       "22  0.808432\n",
       "23  0.808815\n",
       "24  0.741572\n",
       "25  0.812802\n",
       "26  0.084795\n",
       "27  0.813320\n",
       "28  0.808213\n",
       "29  0.812887\n",
       "..       ...\n",
       "50  0.808346\n",
       "51  0.813197\n",
       "52  0.809370\n",
       "53  0.808418\n",
       "54  0.813237\n",
       "55  0.812760\n",
       "56  0.141582\n",
       "57  0.115202\n",
       "58  0.808140\n",
       "59  0.812917\n",
       "60  0.806433\n",
       "61  0.109565\n",
       "62  0.808504\n",
       "63  0.813237\n",
       "64  0.812760\n",
       "65  0.808504\n",
       "66  0.117020\n",
       "67  0.812427\n",
       "68  0.808504\n",
       "69  0.807500\n",
       "70  0.809370\n",
       "71  0.812833\n",
       "72  0.812760\n",
       "73  0.808699\n",
       "74  0.808140\n",
       "75  0.808213\n",
       "76  0.813320\n",
       "77  0.812833\n",
       "78  0.809353\n",
       "79  0.812969\n",
       "\n",
       "[80 rows x 1 columns]"
      ]
     },
     "execution_count": 118,
     "metadata": {},
     "output_type": "execute_result"
    }
   ],
   "source": [
    "r = {'nn': y_rfr}\n",
    "y_pred_rfr = pd.DataFrame(r)\n",
    "y_pred_rfr"
   ]
  },
  {
   "cell_type": "code",
   "execution_count": 122,
   "metadata": {},
   "outputs": [
    {
     "data": {
      "image/png": "[encoded data removed]",
      "text/plain": [
       "<Figure size 432x288 with 1 Axes>"
      ]
     },
     "metadata": {
      "needs_background": "light"
     },
     "output_type": "display_data"
    }
   ],
   "source": [
    "plt.plot(y_pred_rfr,y_pred_rfr,'o',y_pred_rfr,y_train,'rd')\n",
    "plt.show()"
   ]
  },
  {
   "cell_type": "markdown",
   "metadata": {},
   "source": [
    "# SVR"
   ]
  },
  {
   "cell_type": "code",
   "execution_count": 127,
   "metadata": {},
   "outputs": [],
   "source": [
    "from sklearn.svm import SVR"
   ]
  },
  {
   "cell_type": "code",
   "execution_count": 128,
   "metadata": {},
   "outputs": [],
   "source": [
    "svr = SVR(gamma='scale', C=1.0, epsilon=0.2)"
   ]
  },
  {
   "cell_type": "code",
   "execution_count": 129,
   "metadata": {},
   "outputs": [],
   "source": [
    "grid_param_svr = {  \n",
    "    'gamma':['scale','auto'],\n",
    "    'epsilon': [0.1,0.2,0.3] ,  #con0.1 da linear y con 0.2 da sigmoid\n",
    "    'kernel': ['rbf','linear','poly','sigmoid']\n",
    "}"
   ]
  },
  {
   "cell_type": "code",
   "execution_count": 130,
   "metadata": {},
   "outputs": [],
   "source": [
    "gd_sr_svr = GridSearchCV(estimator=svr,  \n",
    "                     param_grid=grid_param_svr,\n",
    "                     cv=5,\n",
    "                     n_jobs=-1)"
   ]
  },
  {
   "cell_type": "code",
   "execution_count": 131,
   "metadata": {},
   "outputs": [
    {
     "data": {
      "text/plain": [
       "GridSearchCV(cv=5, error_score='raise-deprecating',\n",
       "       estimator=SVR(C=1.0, cache_size=200, coef0=0.0, degree=3, epsilon=0.2, gamma='scale',\n",
       "  kernel='rbf', max_iter=-1, shrinking=True, tol=0.001, verbose=False),\n",
       "       fit_params=None, iid='warn', n_jobs=-1,\n",
       "       param_grid={'gamma': ['scale', 'auto'], 'epsilon': [0.1, 0.2, 0.3], 'kernel': ['rbf', 'linear', 'poly', 'sigmoid']},\n",
       "       pre_dispatch='2*n_jobs', refit=True, return_train_score='warn',\n",
       "       scoring=None, verbose=0)"
      ]
     },
     "execution_count": 131,
     "metadata": {},
     "output_type": "execute_result"
    }
   ],
   "source": [
    "gd_sr_svr.fit(X_train, y_train)"
   ]
  },
  {
   "cell_type": "code",
   "execution_count": 132,
   "metadata": {},
   "outputs": [
    {
     "name": "stdout",
     "output_type": "stream",
     "text": [
      "{'epsilon': 0.1, 'gamma': 'scale', 'kernel': 'linear'}\n"
     ]
    }
   ],
   "source": [
    "best_parameters = gd_sr_svr.best_params_  \n",
    "print(best_parameters)"
   ]
  },
  {
   "cell_type": "code",
   "execution_count": 134,
   "metadata": {},
   "outputs": [
    {
     "name": "stdout",
     "output_type": "stream",
     "text": [
      "0.8225712542513923\n"
     ]
    }
   ],
   "source": [
    "best_result = gd_sr_svr.best_score_  \n",
    "print(best_result)"
   ]
  },
  {
   "cell_type": "code",
   "execution_count": 135,
   "metadata": {},
   "outputs": [],
   "source": [
    "svr1 = SVR(gamma='scale', epsilon=0.1, kernel='linear')"
   ]
  },
  {
   "cell_type": "code",
   "execution_count": 136,
   "metadata": {},
   "outputs": [],
   "source": [
    "svr2=svr1.fit(X_train,y_train)"
   ]
  },
  {
   "cell_type": "code",
   "execution_count": 137,
   "metadata": {},
   "outputs": [],
   "source": [
    "y_svr=svr2.predict(X_train)"
   ]
  },
  {
   "cell_type": "code",
   "execution_count": 138,
   "metadata": {},
   "outputs": [
    {
     "data": {
      "text/plain": [
       "array([0.79318746, 0.1669245 , 0.82126644, 0.80876059, 0.75719256,\n",
       "       0.22341158, 0.71381613, 0.78660014, 0.76162294, 0.77424211,\n",
       "       0.71241748, 0.74857142, 0.7824605 , 0.80849161, 0.73764533,\n",
       "       0.73303871, 0.76040928, 0.07289232, 0.84816549, 0.8064171 ,\n",
       "       0.81857796, 0.76222339, 0.73574678, 0.79691628, 0.76536789,\n",
       "       0.73720989, 0.18127879, 0.80387121, 0.81368801, 0.74675959,\n",
       "       0.81093627, 0.78252099, 0.74965112, 0.71449131, 0.84278275,\n",
       "       0.74953024, 0.12206701, 0.70942884, 0.72988933, 0.72866383,\n",
       "       0.84651005, 0.71542606, 0.85337672, 0.81621252, 0.83336739,\n",
       "       0.77368396, 0.83777142, 0.81836543, 0.136614  , 0.78374673,\n",
       "       0.79586453, 0.81726055, 0.78402712, 0.70656705, 0.7519946 ,\n",
       "       0.71237014, 0.20194118, 0.22900489, 0.78830408, 0.7136603 ,\n",
       "       0.80173514, 0.16872582, 0.7296523 , 0.78769842, 0.79844729,\n",
       "       0.83425077, 0.22692092, 0.71257542, 0.81531907, 0.78085365,\n",
       "       0.75413651, 0.83126964, 0.8051445 , 0.83794152, 0.78547115,\n",
       "       0.70444599, 0.71576513, 0.8255437 , 0.71126463, 0.72299344])"
      ]
     },
     "execution_count": 138,
     "metadata": {},
     "output_type": "execute_result"
    }
   ],
   "source": [
    "y_svr"
   ]
  },
  {
   "cell_type": "code",
   "execution_count": 139,
   "metadata": {},
   "outputs": [
    {
     "data": {
      "text/plain": [
       "43    0.805063\n",
       "62    0.086511\n",
       "3     0.805383\n",
       "71    0.809374\n",
       "45    0.808635\n",
       "48    0.123096\n",
       "6     0.814093\n",
       "99    0.815051\n",
       "82    0.795894\n",
       "76    0.814610\n",
       "60    0.812810\n",
       "80    0.813806\n",
       "90    0.813935\n",
       "68    0.812975\n",
       "51    0.808911\n",
       "27    0.815270\n",
       "18    0.814028\n",
       "56    0.074773\n",
       "63    0.814599\n",
       "74    0.811738\n",
       "1     0.812715\n",
       "61    0.809403\n",
       "42    0.809614\n",
       "41    0.808932\n",
       "4     0.697127\n",
       "15    0.812752\n",
       "17    0.081508\n",
       "40    0.814699\n",
       "38    0.805867\n",
       "5     0.811851\n",
       "        ...   \n",
       "19    0.807777\n",
       "29    0.813460\n",
       "49    0.810393\n",
       "97    0.806900\n",
       "98    0.813893\n",
       "69    0.812647\n",
       "20    0.122854\n",
       "94    0.129198\n",
       "72    0.804327\n",
       "77    0.813944\n",
       "25    0.802443\n",
       "37    0.103765\n",
       "81    0.810644\n",
       "46    0.815202\n",
       "39    0.811330\n",
       "65    0.810401\n",
       "58    0.126808\n",
       "12    0.812490\n",
       "88    0.809146\n",
       "70    0.804487\n",
       "87    0.810331\n",
       "36    0.812499\n",
       "21    0.811075\n",
       "83    0.809038\n",
       "9     0.806201\n",
       "96    0.804030\n",
       "67    0.815623\n",
       "64    0.812827\n",
       "47    0.810875\n",
       "44    0.812567\n",
       "Name: yOEE1c, Length: 80, dtype: float64"
      ]
     },
     "execution_count": 139,
     "metadata": {},
     "output_type": "execute_result"
    }
   ],
   "source": [
    "y_train"
   ]
  },
  {
   "cell_type": "code",
   "execution_count": 140,
   "metadata": {},
   "outputs": [
    {
     "data": {
      "text/html": [
       "<div>\n",
       "<style scoped>\n",
       "    .dataframe tbody tr th:only-of-type {\n",
       "        vertical-align: middle;\n",
       "    }\n",
       "\n",
       "    .dataframe tbody tr th {\n",
       "        vertical-align: top;\n",
       "    }\n",
       "\n",
       "    .dataframe thead th {\n",
       "        text-align: right;\n",
       "    }\n",
       "</style>\n",
       "<table border=\"1\" class=\"dataframe\">\n",
       "  <thead>\n",
       "    <tr style=\"text-align: right;\">\n",
       "      <th></th>\n",
       "      <th>svr</th>\n",
       "    </tr>\n",
       "  </thead>\n",
       "  <tbody>\n",
       "    <tr>\n",
       "      <th>0</th>\n",
       "      <td>0.793187</td>\n",
       "    </tr>\n",
       "    <tr>\n",
       "      <th>1</th>\n",
       "      <td>0.166924</td>\n",
       "    </tr>\n",
       "    <tr>\n",
       "      <th>2</th>\n",
       "      <td>0.821266</td>\n",
       "    </tr>\n",
       "    <tr>\n",
       "      <th>3</th>\n",
       "      <td>0.808761</td>\n",
       "    </tr>\n",
       "    <tr>\n",
       "      <th>4</th>\n",
       "      <td>0.757193</td>\n",
       "    </tr>\n",
       "    <tr>\n",
       "      <th>5</th>\n",
       "      <td>0.223412</td>\n",
       "    </tr>\n",
       "    <tr>\n",
       "      <th>6</th>\n",
       "      <td>0.713816</td>\n",
       "    </tr>\n",
       "    <tr>\n",
       "      <th>7</th>\n",
       "      <td>0.786600</td>\n",
       "    </tr>\n",
       "    <tr>\n",
       "      <th>8</th>\n",
       "      <td>0.761623</td>\n",
       "    </tr>\n",
       "    <tr>\n",
       "      <th>9</th>\n",
       "      <td>0.774242</td>\n",
       "    </tr>\n",
       "    <tr>\n",
       "      <th>10</th>\n",
       "      <td>0.712417</td>\n",
       "    </tr>\n",
       "    <tr>\n",
       "      <th>11</th>\n",
       "      <td>0.748571</td>\n",
       "    </tr>\n",
       "    <tr>\n",
       "      <th>12</th>\n",
       "      <td>0.782461</td>\n",
       "    </tr>\n",
       "    <tr>\n",
       "      <th>13</th>\n",
       "      <td>0.808492</td>\n",
       "    </tr>\n",
       "    <tr>\n",
       "      <th>14</th>\n",
       "      <td>0.737645</td>\n",
       "    </tr>\n",
       "    <tr>\n",
       "      <th>15</th>\n",
       "      <td>0.733039</td>\n",
       "    </tr>\n",
       "    <tr>\n",
       "      <th>16</th>\n",
       "      <td>0.760409</td>\n",
       "    </tr>\n",
       "    <tr>\n",
       "      <th>17</th>\n",
       "      <td>0.072892</td>\n",
       "    </tr>\n",
       "    <tr>\n",
       "      <th>18</th>\n",
       "      <td>0.848165</td>\n",
       "    </tr>\n",
       "    <tr>\n",
       "      <th>19</th>\n",
       "      <td>0.806417</td>\n",
       "    </tr>\n",
       "    <tr>\n",
       "      <th>20</th>\n",
       "      <td>0.818578</td>\n",
       "    </tr>\n",
       "    <tr>\n",
       "      <th>21</th>\n",
       "      <td>0.762223</td>\n",
       "    </tr>\n",
       "    <tr>\n",
       "      <th>22</th>\n",
       "      <td>0.735747</td>\n",
       "    </tr>\n",
       "    <tr>\n",
       "      <th>23</th>\n",
       "      <td>0.796916</td>\n",
       "    </tr>\n",
       "    <tr>\n",
       "      <th>24</th>\n",
       "      <td>0.765368</td>\n",
       "    </tr>\n",
       "    <tr>\n",
       "      <th>25</th>\n",
       "      <td>0.737210</td>\n",
       "    </tr>\n",
       "    <tr>\n",
       "      <th>26</th>\n",
       "      <td>0.181279</td>\n",
       "    </tr>\n",
       "    <tr>\n",
       "      <th>27</th>\n",
       "      <td>0.803871</td>\n",
       "    </tr>\n",
       "    <tr>\n",
       "      <th>28</th>\n",
       "      <td>0.813688</td>\n",
       "    </tr>\n",
       "    <tr>\n",
       "      <th>29</th>\n",
       "      <td>0.746760</td>\n",
       "    </tr>\n",
       "    <tr>\n",
       "      <th>...</th>\n",
       "      <td>...</td>\n",
       "    </tr>\n",
       "    <tr>\n",
       "      <th>50</th>\n",
       "      <td>0.795865</td>\n",
       "    </tr>\n",
       "    <tr>\n",
       "      <th>51</th>\n",
       "      <td>0.817261</td>\n",
       "    </tr>\n",
       "    <tr>\n",
       "      <th>52</th>\n",
       "      <td>0.784027</td>\n",
       "    </tr>\n",
       "    <tr>\n",
       "      <th>53</th>\n",
       "      <td>0.706567</td>\n",
       "    </tr>\n",
       "    <tr>\n",
       "      <th>54</th>\n",
       "      <td>0.751995</td>\n",
       "    </tr>\n",
       "    <tr>\n",
       "      <th>55</th>\n",
       "      <td>0.712370</td>\n",
       "    </tr>\n",
       "    <tr>\n",
       "      <th>56</th>\n",
       "      <td>0.201941</td>\n",
       "    </tr>\n",
       "    <tr>\n",
       "      <th>57</th>\n",
       "      <td>0.229005</td>\n",
       "    </tr>\n",
       "    <tr>\n",
       "      <th>58</th>\n",
       "      <td>0.788304</td>\n",
       "    </tr>\n",
       "    <tr>\n",
       "      <th>59</th>\n",
       "      <td>0.713660</td>\n",
       "    </tr>\n",
       "    <tr>\n",
       "      <th>60</th>\n",
       "      <td>0.801735</td>\n",
       "    </tr>\n",
       "    <tr>\n",
       "      <th>61</th>\n",
       "      <td>0.168726</td>\n",
       "    </tr>\n",
       "    <tr>\n",
       "      <th>62</th>\n",
       "      <td>0.729652</td>\n",
       "    </tr>\n",
       "    <tr>\n",
       "      <th>63</th>\n",
       "      <td>0.787698</td>\n",
       "    </tr>\n",
       "    <tr>\n",
       "      <th>64</th>\n",
       "      <td>0.798447</td>\n",
       "    </tr>\n",
       "    <tr>\n",
       "      <th>65</th>\n",
       "      <td>0.834251</td>\n",
       "    </tr>\n",
       "    <tr>\n",
       "      <th>66</th>\n",
       "      <td>0.226921</td>\n",
       "    </tr>\n",
       "    <tr>\n",
       "      <th>67</th>\n",
       "      <td>0.712575</td>\n",
       "    </tr>\n",
       "    <tr>\n",
       "      <th>68</th>\n",
       "      <td>0.815319</td>\n",
       "    </tr>\n",
       "    <tr>\n",
       "      <th>69</th>\n",
       "      <td>0.780854</td>\n",
       "    </tr>\n",
       "    <tr>\n",
       "      <th>70</th>\n",
       "      <td>0.754137</td>\n",
       "    </tr>\n",
       "    <tr>\n",
       "      <th>71</th>\n",
       "      <td>0.831270</td>\n",
       "    </tr>\n",
       "    <tr>\n",
       "      <th>72</th>\n",
       "      <td>0.805145</td>\n",
       "    </tr>\n",
       "    <tr>\n",
       "      <th>73</th>\n",
       "      <td>0.837942</td>\n",
       "    </tr>\n",
       "    <tr>\n",
       "      <th>74</th>\n",
       "      <td>0.785471</td>\n",
       "    </tr>\n",
       "    <tr>\n",
       "      <th>75</th>\n",
       "      <td>0.704446</td>\n",
       "    </tr>\n",
       "    <tr>\n",
       "      <th>76</th>\n",
       "      <td>0.715765</td>\n",
       "    </tr>\n",
       "    <tr>\n",
       "      <th>77</th>\n",
       "      <td>0.825544</td>\n",
       "    </tr>\n",
       "    <tr>\n",
       "      <th>78</th>\n",
       "      <td>0.711265</td>\n",
       "    </tr>\n",
       "    <tr>\n",
       "      <th>79</th>\n",
       "      <td>0.722993</td>\n",
       "    </tr>\n",
       "  </tbody>\n",
       "</table>\n",
       "<p>80 rows × 1 columns</p>\n",
       "</div>"
      ],
      "text/plain": [
       "         svr\n",
       "0   0.793187\n",
       "1   0.166924\n",
       "2   0.821266\n",
       "3   0.808761\n",
       "4   0.757193\n",
       "5   0.223412\n",
       "6   0.713816\n",
       "7   0.786600\n",
       "8   0.761623\n",
       "9   0.774242\n",
       "10  0.712417\n",
       "11  0.748571\n",
       "12  0.782461\n",
       "13  0.808492\n",
       "14  0.737645\n",
       "15  0.733039\n",
       "16  0.760409\n",
       "17  0.072892\n",
       "18  0.848165\n",
       "19  0.806417\n",
       "20  0.818578\n",
       "21  0.762223\n",
       "22  0.735747\n",
       "23  0.796916\n",
       "24  0.765368\n",
       "25  0.737210\n",
       "26  0.181279\n",
       "27  0.803871\n",
       "28  0.813688\n",
       "29  0.746760\n",
       "..       ...\n",
       "50  0.795865\n",
       "51  0.817261\n",
       "52  0.784027\n",
       "53  0.706567\n",
       "54  0.751995\n",
       "55  0.712370\n",
       "56  0.201941\n",
       "57  0.229005\n",
       "58  0.788304\n",
       "59  0.713660\n",
       "60  0.801735\n",
       "61  0.168726\n",
       "62  0.729652\n",
       "63  0.787698\n",
       "64  0.798447\n",
       "65  0.834251\n",
       "66  0.226921\n",
       "67  0.712575\n",
       "68  0.815319\n",
       "69  0.780854\n",
       "70  0.754137\n",
       "71  0.831270\n",
       "72  0.805145\n",
       "73  0.837942\n",
       "74  0.785471\n",
       "75  0.704446\n",
       "76  0.715765\n",
       "77  0.825544\n",
       "78  0.711265\n",
       "79  0.722993\n",
       "\n",
       "[80 rows x 1 columns]"
      ]
     },
     "execution_count": 140,
     "metadata": {},
     "output_type": "execute_result"
    }
   ],
   "source": [
    "s = {'svr': y_svr}\n",
    "y_pred_svr = pd.DataFrame(s)\n",
    "y_pred_svr"
   ]
  },
  {
   "cell_type": "code",
   "execution_count": 141,
   "metadata": {},
   "outputs": [
    {
     "data": {
      "image/png": "[encoded data removed]",
      "text/plain": [
       "<Figure size 432x288 with 1 Axes>"
      ]
     },
     "metadata": {
      "needs_background": "light"
     },
     "output_type": "display_data"
    }
   ],
   "source": [
    "plt.plot(y_pred_svr,y_pred_svr,'o',y_pred_svr,y_train,'rd')\n",
    "plt.show()"
   ]
  },
  {
   "cell_type": "code",
   "execution_count": null,
   "metadata": {},
   "outputs": [],
   "source": []
  },
  {
   "cell_type": "code",
   "execution_count": null,
   "metadata": {},
   "outputs": [],
   "source": []
  },
  {
   "cell_type": "code",
   "execution_count": null,
   "metadata": {},
   "outputs": [],
   "source": []
  },
  {
   "cell_type": "code",
   "execution_count": null,
   "metadata": {},
   "outputs": [],
   "source": []
  },
  {
   "cell_type": "code",
   "execution_count": null,
   "metadata": {},
   "outputs": [],
   "source": []
  },
  {
   "cell_type": "code",
   "execution_count": null,
   "metadata": {},
   "outputs": [],
   "source": []
  },
  {
   "cell_type": "code",
   "execution_count": 268,
   "metadata": {},
   "outputs": [],
   "source": [
    "#gd_sr_svr.cv_results_"
   ]
  }
 ],
 "metadata": {
  "kernelspec": {
   "display_name": "Python 3",
   "language": "python",
   "name": "python3"
  },
  "language_info": {
   "codemirror_mode": {
    "name": "ipython",
    "version": 3
   },
   "file_extension": ".py",
   "mimetype": "text/x-python",
   "name": "python",
   "nbconvert_exporter": "python",
   "pygments_lexer": "ipython3",
   "version": "3.7.1"
  }
 },
 "nbformat": 4,
 "nbformat_minor": 2
}
