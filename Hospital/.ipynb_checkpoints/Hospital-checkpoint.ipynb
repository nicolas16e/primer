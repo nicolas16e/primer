{
 "cells": [
  {
   "cell_type": "code",
   "execution_count": 89,
   "metadata": {},
   "outputs": [],
   "source": [
    "import pandas as pd"
   ]
  },
  {
   "cell_type": "code",
   "execution_count": 90,
   "metadata": {},
   "outputs": [],
   "source": [
    "data=pd.read_csv(\"Hospital100.csv\",sep=\";\", header=0)"
   ]
  },
  {
   "cell_type": "code",
   "execution_count": 91,
   "metadata": {
    "scrolled": false
   },
   "outputs": [
    {
     "name": "stdout",
     "output_type": "stream",
     "text": [
      "<class 'pandas.core.frame.DataFrame'>\n"
     ]
    },
    {
     "data": {
      "text/html": [
       "<div>\n",
       "<style scoped>\n",
       "    .dataframe tbody tr th:only-of-type {\n",
       "        vertical-align: middle;\n",
       "    }\n",
       "\n",
       "    .dataframe tbody tr th {\n",
       "        vertical-align: top;\n",
       "    }\n",
       "\n",
       "    .dataframe thead th {\n",
       "        text-align: right;\n",
       "    }\n",
       "</style>\n",
       "<table border=\"1\" class=\"dataframe\">\n",
       "  <thead>\n",
       "    <tr style=\"text-align: right;\">\n",
       "      <th></th>\n",
       "      <th>Simulation</th>\n",
       "      <th>numER</th>\n",
       "      <th>mLOSmbed2</th>\n",
       "      <th>mLOSmbed3</th>\n",
       "      <th>sLOSmbed2</th>\n",
       "      <th>sLOSmbed3</th>\n",
       "      <th>numPOB</th>\n",
       "      <th>edMV</th>\n",
       "      <th>iMAmbed1</th>\n",
       "      <th>iMAmbed2</th>\n",
       "      <th>...</th>\n",
       "      <th>f4tEDa</th>\n",
       "      <th>f5pSUc</th>\n",
       "      <th>f6tSUc</th>\n",
       "      <th>f7nCUo</th>\n",
       "      <th>f8nPCUo</th>\n",
       "      <th>f9nACUo</th>\n",
       "      <th>yOEE1avail</th>\n",
       "      <th>yOEE1c</th>\n",
       "      <th>yOEE1perf</th>\n",
       "      <th>yOEE1qual</th>\n",
       "    </tr>\n",
       "  </thead>\n",
       "  <tbody>\n",
       "    <tr>\n",
       "      <th>0</th>\n",
       "      <td>1</td>\n",
       "      <td>18</td>\n",
       "      <td>28782.00</td>\n",
       "      <td>111264.00</td>\n",
       "      <td>23.49</td>\n",
       "      <td>87648.0</td>\n",
       "      <td>5</td>\n",
       "      <td>38.33</td>\n",
       "      <td>10</td>\n",
       "      <td>9</td>\n",
       "      <td>...</td>\n",
       "      <td>45542</td>\n",
       "      <td>0.999920</td>\n",
       "      <td>3435948</td>\n",
       "      <td>30485080</td>\n",
       "      <td>2818658.0</td>\n",
       "      <td>11318836.0</td>\n",
       "      <td>0.984826</td>\n",
       "      <td>0.810797</td>\n",
       "      <td>1220136.0</td>\n",
       "      <td>0.680297</td>\n",
       "    </tr>\n",
       "    <tr>\n",
       "      <th>1</th>\n",
       "      <td>2</td>\n",
       "      <td>19</td>\n",
       "      <td>27054.00</td>\n",
       "      <td>92256.00</td>\n",
       "      <td>29106.00</td>\n",
       "      <td>72096.0</td>\n",
       "      <td>6</td>\n",
       "      <td>39.41</td>\n",
       "      <td>10</td>\n",
       "      <td>11</td>\n",
       "      <td>...</td>\n",
       "      <td>4519388</td>\n",
       "      <td>0.882746</td>\n",
       "      <td>3260574</td>\n",
       "      <td>26854060</td>\n",
       "      <td>1516530.0</td>\n",
       "      <td>1071032.0</td>\n",
       "      <td>0.985359</td>\n",
       "      <td>0.812715</td>\n",
       "      <td>1221962.0</td>\n",
       "      <td>0.680449</td>\n",
       "    </tr>\n",
       "    <tr>\n",
       "      <th>2</th>\n",
       "      <td>3</td>\n",
       "      <td>15</td>\n",
       "      <td>30.51</td>\n",
       "      <td>120.48</td>\n",
       "      <td>22734.00</td>\n",
       "      <td>90528.0</td>\n",
       "      <td>5</td>\n",
       "      <td>27.71</td>\n",
       "      <td>12</td>\n",
       "      <td>13</td>\n",
       "      <td>...</td>\n",
       "      <td>4536282</td>\n",
       "      <td>0.617448</td>\n",
       "      <td>1308778</td>\n",
       "      <td>32135080</td>\n",
       "      <td>15645640.0</td>\n",
       "      <td>1474038.0</td>\n",
       "      <td>0.986968</td>\n",
       "      <td>0.813276</td>\n",
       "      <td>1219222.0</td>\n",
       "      <td>0.681487</td>\n",
       "    </tr>\n",
       "    <tr>\n",
       "      <th>3</th>\n",
       "      <td>4</td>\n",
       "      <td>17</td>\n",
       "      <td>24462.00</td>\n",
       "      <td>110112.00</td>\n",
       "      <td>21762.00</td>\n",
       "      <td>103.2</td>\n",
       "      <td>7</td>\n",
       "      <td>41.57</td>\n",
       "      <td>9</td>\n",
       "      <td>12</td>\n",
       "      <td>...</td>\n",
       "      <td>4626366</td>\n",
       "      <td>0.959863</td>\n",
       "      <td>4002396</td>\n",
       "      <td>26565160</td>\n",
       "      <td>1726320.0</td>\n",
       "      <td>197441.4</td>\n",
       "      <td>0.981931</td>\n",
       "      <td>0.805383</td>\n",
       "      <td>12178.0</td>\n",
       "      <td>0.678957</td>\n",
       "    </tr>\n",
       "    <tr>\n",
       "      <th>4</th>\n",
       "      <td>5</td>\n",
       "      <td>12</td>\n",
       "      <td>24894.00</td>\n",
       "      <td>102048.00</td>\n",
       "      <td>27918.00</td>\n",
       "      <td>101472.0</td>\n",
       "      <td>6</td>\n",
       "      <td>35.45</td>\n",
       "      <td>10</td>\n",
       "      <td>10</td>\n",
       "      <td>...</td>\n",
       "      <td>724904</td>\n",
       "      <td>0.999920</td>\n",
       "      <td>2768574</td>\n",
       "      <td>29818520</td>\n",
       "      <td>6910440.0</td>\n",
       "      <td>516125.6</td>\n",
       "      <td>0.920517</td>\n",
       "      <td>0.697127</td>\n",
       "      <td>1138948.0</td>\n",
       "      <td>0.666257</td>\n",
       "    </tr>\n",
       "  </tbody>\n",
       "</table>\n",
       "<p>5 rows × 30 columns</p>\n",
       "</div>"
      ],
      "text/plain": [
       "   Simulation  numER  mLOSmbed2  mLOSmbed3  sLOSmbed2  sLOSmbed3  numPOB  \\\n",
       "0           1     18   28782.00  111264.00      23.49    87648.0       5   \n",
       "1           2     19   27054.00   92256.00   29106.00    72096.0       6   \n",
       "2           3     15      30.51     120.48   22734.00    90528.0       5   \n",
       "3           4     17   24462.00  110112.00   21762.00      103.2       7   \n",
       "4           5     12   24894.00  102048.00   27918.00   101472.0       6   \n",
       "\n",
       "    edMV  iMAmbed1  iMAmbed2    ...       f4tEDa    f5pSUc   f6tSUc    f7nCUo  \\\n",
       "0  38.33        10         9    ...        45542  0.999920  3435948  30485080   \n",
       "1  39.41        10        11    ...      4519388  0.882746  3260574  26854060   \n",
       "2  27.71        12        13    ...      4536282  0.617448  1308778  32135080   \n",
       "3  41.57         9        12    ...      4626366  0.959863  4002396  26565160   \n",
       "4  35.45        10        10    ...       724904  0.999920  2768574  29818520   \n",
       "\n",
       "      f8nPCUo     f9nACUo  yOEE1avail    yOEE1c  yOEE1perf  yOEE1qual  \n",
       "0   2818658.0  11318836.0    0.984826  0.810797  1220136.0   0.680297  \n",
       "1   1516530.0   1071032.0    0.985359  0.812715  1221962.0   0.680449  \n",
       "2  15645640.0   1474038.0    0.986968  0.813276  1219222.0   0.681487  \n",
       "3   1726320.0    197441.4    0.981931  0.805383    12178.0   0.678957  \n",
       "4   6910440.0    516125.6    0.920517  0.697127  1138948.0   0.666257  \n",
       "\n",
       "[5 rows x 30 columns]"
      ]
     },
     "execution_count": 91,
     "metadata": {},
     "output_type": "execute_result"
    }
   ],
   "source": [
    "print(type(data))\n",
    "data.head(n=5)"
   ]
  },
  {
   "cell_type": "code",
   "execution_count": 92,
   "metadata": {},
   "outputs": [],
   "source": [
    "import sklearn as skl\n",
    "from sklearn import preprocessing"
   ]
  },
  {
   "cell_type": "code",
   "execution_count": 57,
   "metadata": {},
   "outputs": [],
   "source": [
    "#print(data)"
   ]
  },
  {
   "cell_type": "code",
   "execution_count": 49,
   "metadata": {},
   "outputs": [],
   "source": [
    "#minmax=preprocessing.MinMaxScaler()"
   ]
  },
  {
   "cell_type": "code",
   "execution_count": 52,
   "metadata": {},
   "outputs": [],
   "source": [
    "#scaler=minmax.fit_transform(data)"
   ]
  },
  {
   "cell_type": "code",
   "execution_count": 64,
   "metadata": {},
   "outputs": [],
   "source": [
    "#scaler = preprocessing.StandardScaler().fit(data)"
   ]
  },
  {
   "cell_type": "code",
   "execution_count": 113,
   "metadata": {},
   "outputs": [],
   "source": [
    "import numpy as np"
   ]
  },
  {
   "cell_type": "code",
   "execution_count": 94,
   "metadata": {},
   "outputs": [],
   "source": [
    "#x=([[1,2,3,2,1,0],[2,2,1,9,3,4]])"
   ]
  },
  {
   "cell_type": "code",
   "execution_count": 95,
   "metadata": {},
   "outputs": [],
   "source": [
    "#scaler = preprocessing.scale(x)\n",
    "#scaler"
   ]
  },
  {
   "cell_type": "code",
   "execution_count": 123,
   "metadata": {},
   "outputs": [
    {
     "name": "stderr",
     "output_type": "stream",
     "text": [
      "C:\\Users\\Usuario\\Anaconda3\\lib\\site-packages\\ipykernel_launcher.py:1: DataConversionWarning: Data with input dtype int64, float64 were all converted to float64 by the scale function.\n",
      "  \"\"\"Entry point for launching an IPython kernel.\n"
     ]
    },
    {
     "data": {
      "text/plain": [
       "array([[-1.71481604,  0.71428571,  0.64399301, ...,  0.37411388,\n",
       "         0.60989562,  0.35869229],\n",
       "       [-1.68017329,  1.07142857,  0.48893073, ...,  0.38234463,\n",
       "         0.61342511,  0.36076572],\n",
       "       [-1.64553055, -0.35714286, -1.93602517, ...,  0.38474862,\n",
       "         0.60812895,  0.37488523],\n",
       "       ...,\n",
       "       [ 1.64553055, -1.42857143,  0.46954795, ...,  0.35738718,\n",
       "         0.60869336,  0.37178324],\n",
       "       [ 1.68017329,  0.71428571,  0.01405252, ...,  0.38739723,\n",
       "         0.60158413,  0.39288767],\n",
       "       [ 1.71481604,  1.78571429,  0.09158366, ...,  0.39236743,\n",
       "        -1.51316987,  0.38497759]])"
      ]
     },
     "execution_count": 123,
     "metadata": {},
     "output_type": "execute_result"
    }
   ],
   "source": [
    "datascale=preprocessing.scale(data)\n",
    "datascale"
   ]
  },
  {
   "cell_type": "code",
   "execution_count": 146,
   "metadata": {},
   "outputs": [],
   "source": [
    "#minmaxscaler=preprocessing.MinMaxScaler()\n",
    "#datammscaler=minmaxscaler.fit_transform(data)\n",
    "#print(datammscaler)"
   ]
  },
  {
   "cell_type": "code",
   "execution_count": 144,
   "metadata": {},
   "outputs": [
    {
     "data": {
      "text/plain": [
       "array([ 4.44089210e-18,  1.11022302e-17, -9.81159598e-17,  5.66213743e-17,\n",
       "       -1.11577414e-16,  6.10622664e-17,  0.00000000e+00, -4.44089210e-17,\n",
       "        0.00000000e+00,  0.00000000e+00,  7.77156117e-18,  0.00000000e+00,\n",
       "        0.00000000e+00,  1.33226763e-17, -6.66133815e-18,  8.21565038e-17,\n",
       "        5.99520433e-17,  4.44089210e-17,  6.88338275e-17, -2.66453526e-17,\n",
       "       -1.39888101e-16,  4.32986980e-17, -7.66053887e-17,  6.90558721e-16,\n",
       "        3.05866443e-16,  6.32827124e-17, -1.93178806e-16,  1.64313008e-16,\n",
       "       -2.06501483e-16, -3.66373598e-16])"
      ]
     },
     "execution_count": 144,
     "metadata": {},
     "output_type": "execute_result"
    }
   ],
   "source": [
    "datascale.mean(0)"
   ]
  },
  {
   "cell_type": "code",
   "execution_count": 145,
   "metadata": {},
   "outputs": [
    {
     "data": {
      "text/plain": [
       "array([1., 1., 1., 1., 1., 1., 1., 1., 1., 1., 1., 1., 1., 1., 1., 1., 1.,\n",
       "       1., 1., 1., 1., 1., 1., 1., 1., 1., 1., 1., 1., 1.])"
      ]
     },
     "execution_count": 145,
     "metadata": {},
     "output_type": "execute_result"
    }
   ],
   "source": [
    "datascale.std(0)"
   ]
  },
  {
   "cell_type": "code",
   "execution_count": 147,
   "metadata": {},
   "outputs": [],
   "source": [
    "from sklearn.ensemble import RandomForestClassifier\n",
    "from sklearn.datasets import make_classification"
   ]
  },
  {
   "cell_type": "code",
   "execution_count": null,
   "metadata": {},
   "outputs": [],
   "source": []
  }
 ],
 "metadata": {
  "kernelspec": {
   "display_name": "Python 3",
   "language": "python",
   "name": "python3"
  },
  "language_info": {
   "codemirror_mode": {
    "name": "ipython",
    "version": 3
   },
   "file_extension": ".py",
   "mimetype": "text/x-python",
   "name": "python",
   "nbconvert_exporter": "python",
   "pygments_lexer": "ipython3",
   "version": "3.7.1"
  }
 },
 "nbformat": 4,
 "nbformat_minor": 2
}
