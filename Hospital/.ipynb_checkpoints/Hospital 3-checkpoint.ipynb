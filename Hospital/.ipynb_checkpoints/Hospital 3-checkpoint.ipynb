{
 "cells": [
  {
   "cell_type": "code",
   "execution_count": 26,
   "metadata": {},
   "outputs": [],
   "source": [
    "import pandas as pd\n",
    "from sklearn import model_selection\n",
    "from sklearn.ensemble import RandomForestRegressor\n",
    "from sklearn import metrics"
   ]
  },
  {
   "cell_type": "code",
   "execution_count": 27,
   "metadata": {},
   "outputs": [
    {
     "data": {
      "text/html": [
       "<div>\n",
       "<style scoped>\n",
       "    .dataframe tbody tr th:only-of-type {\n",
       "        vertical-align: middle;\n",
       "    }\n",
       "\n",
       "    .dataframe tbody tr th {\n",
       "        vertical-align: top;\n",
       "    }\n",
       "\n",
       "    .dataframe thead th {\n",
       "        text-align: right;\n",
       "    }\n",
       "</style>\n",
       "<table border=\"1\" class=\"dataframe\">\n",
       "  <thead>\n",
       "    <tr style=\"text-align: right;\">\n",
       "      <th></th>\n",
       "      <th>numER</th>\n",
       "      <th>mLOSmbed2</th>\n",
       "      <th>mLOSmbed3</th>\n",
       "      <th>sLOSmbed2</th>\n",
       "      <th>sLOSmbed3</th>\n",
       "      <th>numPOB</th>\n",
       "      <th>edMV</th>\n",
       "      <th>iMAmbed1</th>\n",
       "      <th>iMAmbed2</th>\n",
       "      <th>iMAmbed3</th>\n",
       "      <th>...</th>\n",
       "      <th>f1EDLWBS</th>\n",
       "      <th>f2EDRMBLKD</th>\n",
       "      <th>f3tEDd</th>\n",
       "      <th>f4tEDa</th>\n",
       "      <th>f5pSUc</th>\n",
       "      <th>f6tSUc</th>\n",
       "      <th>f7nCUo</th>\n",
       "      <th>f8nPCUo</th>\n",
       "      <th>f9nACUo</th>\n",
       "      <th>yOEE1c</th>\n",
       "    </tr>\n",
       "  </thead>\n",
       "  <tbody>\n",
       "    <tr>\n",
       "      <th>0</th>\n",
       "      <td>18</td>\n",
       "      <td>28782.00</td>\n",
       "      <td>111264.00</td>\n",
       "      <td>23.49</td>\n",
       "      <td>87648.0</td>\n",
       "      <td>5</td>\n",
       "      <td>38.33</td>\n",
       "      <td>10</td>\n",
       "      <td>9</td>\n",
       "      <td>30</td>\n",
       "      <td>...</td>\n",
       "      <td>0.0</td>\n",
       "      <td>0.014368</td>\n",
       "      <td>3524116</td>\n",
       "      <td>45542</td>\n",
       "      <td>0.999920</td>\n",
       "      <td>3435948</td>\n",
       "      <td>30485080</td>\n",
       "      <td>2818658.0</td>\n",
       "      <td>11318836.0</td>\n",
       "      <td>0.810797</td>\n",
       "    </tr>\n",
       "    <tr>\n",
       "      <th>1</th>\n",
       "      <td>19</td>\n",
       "      <td>27054.00</td>\n",
       "      <td>92256.00</td>\n",
       "      <td>29106.00</td>\n",
       "      <td>72096.0</td>\n",
       "      <td>6</td>\n",
       "      <td>39.41</td>\n",
       "      <td>10</td>\n",
       "      <td>11</td>\n",
       "      <td>34</td>\n",
       "      <td>...</td>\n",
       "      <td>0.0</td>\n",
       "      <td>0.013803</td>\n",
       "      <td>3520346</td>\n",
       "      <td>4519388</td>\n",
       "      <td>0.882746</td>\n",
       "      <td>3260574</td>\n",
       "      <td>26854060</td>\n",
       "      <td>1516530.0</td>\n",
       "      <td>1071032.0</td>\n",
       "      <td>0.812715</td>\n",
       "    </tr>\n",
       "    <tr>\n",
       "      <th>2</th>\n",
       "      <td>15</td>\n",
       "      <td>30.51</td>\n",
       "      <td>120.48</td>\n",
       "      <td>22734.00</td>\n",
       "      <td>90528.0</td>\n",
       "      <td>5</td>\n",
       "      <td>27.71</td>\n",
       "      <td>12</td>\n",
       "      <td>13</td>\n",
       "      <td>38</td>\n",
       "      <td>...</td>\n",
       "      <td>0.0</td>\n",
       "      <td>0.012293</td>\n",
       "      <td>353696</td>\n",
       "      <td>4536282</td>\n",
       "      <td>0.617448</td>\n",
       "      <td>1308778</td>\n",
       "      <td>32135080</td>\n",
       "      <td>15645640.0</td>\n",
       "      <td>1474038.0</td>\n",
       "      <td>0.813276</td>\n",
       "    </tr>\n",
       "    <tr>\n",
       "      <th>3</th>\n",
       "      <td>17</td>\n",
       "      <td>24462.00</td>\n",
       "      <td>110112.00</td>\n",
       "      <td>21762.00</td>\n",
       "      <td>103.2</td>\n",
       "      <td>7</td>\n",
       "      <td>41.57</td>\n",
       "      <td>9</td>\n",
       "      <td>12</td>\n",
       "      <td>31</td>\n",
       "      <td>...</td>\n",
       "      <td>0.0</td>\n",
       "      <td>0.017208</td>\n",
       "      <td>3514304</td>\n",
       "      <td>4626366</td>\n",
       "      <td>0.959863</td>\n",
       "      <td>4002396</td>\n",
       "      <td>26565160</td>\n",
       "      <td>1726320.0</td>\n",
       "      <td>197441.4</td>\n",
       "      <td>0.805383</td>\n",
       "    </tr>\n",
       "    <tr>\n",
       "      <th>4</th>\n",
       "      <td>12</td>\n",
       "      <td>24894.00</td>\n",
       "      <td>102048.00</td>\n",
       "      <td>27918.00</td>\n",
       "      <td>101472.0</td>\n",
       "      <td>6</td>\n",
       "      <td>35.45</td>\n",
       "      <td>10</td>\n",
       "      <td>10</td>\n",
       "      <td>24</td>\n",
       "      <td>...</td>\n",
       "      <td>0.0</td>\n",
       "      <td>0.076568</td>\n",
       "      <td>3533516</td>\n",
       "      <td>724904</td>\n",
       "      <td>0.999920</td>\n",
       "      <td>2768574</td>\n",
       "      <td>29818520</td>\n",
       "      <td>6910440.0</td>\n",
       "      <td>516125.6</td>\n",
       "      <td>0.697127</td>\n",
       "    </tr>\n",
       "  </tbody>\n",
       "</table>\n",
       "<p>5 rows × 26 columns</p>\n",
       "</div>"
      ],
      "text/plain": [
       "   numER  mLOSmbed2  mLOSmbed3  sLOSmbed2  sLOSmbed3  numPOB   edMV  iMAmbed1  \\\n",
       "0     18   28782.00  111264.00      23.49    87648.0       5  38.33        10   \n",
       "1     19   27054.00   92256.00   29106.00    72096.0       6  39.41        10   \n",
       "2     15      30.51     120.48   22734.00    90528.0       5  27.71        12   \n",
       "3     17   24462.00  110112.00   21762.00      103.2       7  41.57         9   \n",
       "4     12   24894.00  102048.00   27918.00   101472.0       6  35.45        10   \n",
       "\n",
       "   iMAmbed2  iMAmbed3    ...     f1EDLWBS  f2EDRMBLKD   f3tEDd   f4tEDa  \\\n",
       "0         9        30    ...          0.0    0.014368  3524116    45542   \n",
       "1        11        34    ...          0.0    0.013803  3520346  4519388   \n",
       "2        13        38    ...          0.0    0.012293   353696  4536282   \n",
       "3        12        31    ...          0.0    0.017208  3514304  4626366   \n",
       "4        10        24    ...          0.0    0.076568  3533516   724904   \n",
       "\n",
       "     f5pSUc   f6tSUc    f7nCUo     f8nPCUo     f9nACUo    yOEE1c  \n",
       "0  0.999920  3435948  30485080   2818658.0  11318836.0  0.810797  \n",
       "1  0.882746  3260574  26854060   1516530.0   1071032.0  0.812715  \n",
       "2  0.617448  1308778  32135080  15645640.0   1474038.0  0.813276  \n",
       "3  0.959863  4002396  26565160   1726320.0    197441.4  0.805383  \n",
       "4  0.999920  2768574  29818520   6910440.0    516125.6  0.697127  \n",
       "\n",
       "[5 rows x 26 columns]"
      ]
     },
     "execution_count": 27,
     "metadata": {},
     "output_type": "execute_result"
    }
   ],
   "source": [
    "data=pd.read_csv('Hospital100.csv',sep=';')\n",
    "data.head(n=5)"
   ]
  },
  {
   "cell_type": "code",
   "execution_count": 28,
   "metadata": {},
   "outputs": [],
   "source": [
    "x_train0=data.iloc[:80,:25]\n",
    "x_test0=data.iloc[80:,:25]\n",
    "y_train0=data.iloc[:80,25:]\n",
    "y_test0=data.iloc[80:,25:]"
   ]
  },
  {
   "cell_type": "code",
   "execution_count": 29,
   "metadata": {},
   "outputs": [
    {
     "name": "stderr",
     "output_type": "stream",
     "text": [
      "C:\\Users\\Usuario\\Anaconda3\\lib\\site-packages\\sklearn\\preprocessing\\data.py:625: DataConversionWarning: Data with input dtype int64, float64 were all converted to float64 by StandardScaler.\n",
      "  return self.partial_fit(X, y)\n",
      "C:\\Users\\Usuario\\Anaconda3\\lib\\site-packages\\sklearn\\base.py:462: DataConversionWarning: Data with input dtype int64, float64 were all converted to float64 by StandardScaler.\n",
      "  return self.fit(X, **fit_params).transform(X)\n",
      "C:\\Users\\Usuario\\Anaconda3\\lib\\site-packages\\sklearn\\preprocessing\\data.py:625: DataConversionWarning: Data with input dtype int64, float64 were all converted to float64 by StandardScaler.\n",
      "  return self.partial_fit(X, y)\n",
      "C:\\Users\\Usuario\\Anaconda3\\lib\\site-packages\\sklearn\\base.py:462: DataConversionWarning: Data with input dtype int64, float64 were all converted to float64 by StandardScaler.\n",
      "  return self.fit(X, **fit_params).transform(X)\n"
     ]
    }
   ],
   "source": [
    "from sklearn.preprocessing import StandardScaler\n",
    "x_train=StandardScaler().fit_transform(x_train0)\n",
    "x_test=StandardScaler().fit_transform(x_test0)\n",
    "y_train=StandardScaler().fit_transform(y_train0)\n",
    "y_test=StandardScaler().fit_transform(y_test0)"
   ]
  },
  {
   "cell_type": "code",
   "execution_count": 30,
   "metadata": {},
   "outputs": [],
   "source": [
    "model = RandomForestRegressor(n_estimators=100)"
   ]
  },
  {
   "cell_type": "code",
   "execution_count": 31,
   "metadata": {},
   "outputs": [],
   "source": [
    "cv = model_selection.KFold(n_splits=3)"
   ]
  },
  {
   "cell_type": "code",
   "execution_count": 32,
   "metadata": {},
   "outputs": [
    {
     "name": "stderr",
     "output_type": "stream",
     "text": [
      "C:\\Users\\Usuario\\Anaconda3\\lib\\site-packages\\ipykernel_launcher.py:1: DataConversionWarning: A column-vector y was passed when a 1d array was expected. Please change the shape of y to (n_samples,), for example using ravel().\n",
      "  \"\"\"Entry point for launching an IPython kernel.\n"
     ]
    },
    {
     "data": {
      "text/plain": [
       "RandomForestRegressor(bootstrap=True, criterion='mse', max_depth=None,\n",
       "           max_features='auto', max_leaf_nodes=None,\n",
       "           min_impurity_decrease=0.0, min_impurity_split=None,\n",
       "           min_samples_leaf=1, min_samples_split=2,\n",
       "           min_weight_fraction_leaf=0.0, n_estimators=100, n_jobs=None,\n",
       "           oob_score=False, random_state=None, verbose=0, warm_start=False)"
      ]
     },
     "execution_count": 32,
     "metadata": {},
     "output_type": "execute_result"
    }
   ],
   "source": [
    " model.fit(x_train, y_train)"
   ]
  },
  {
   "cell_type": "code",
   "execution_count": 33,
   "metadata": {},
   "outputs": [
    {
     "data": {
      "text/plain": [
       "0.9824357133449162"
      ]
     },
     "execution_count": 33,
     "metadata": {},
     "output_type": "execute_result"
    }
   ],
   "source": [
    "model.score(x_test, y_test)"
   ]
  },
  {
   "cell_type": "code",
   "execution_count": 34,
   "metadata": {},
   "outputs": [],
   "source": [
    " y_pred = model.predict(x_test)"
   ]
  },
  {
   "cell_type": "code",
   "execution_count": 38,
   "metadata": {},
   "outputs": [
    {
     "data": {
      "text/plain": [
       "0.017564286655083756"
      ]
     },
     "execution_count": 38,
     "metadata": {},
     "output_type": "execute_result"
    }
   ],
   "source": [
    "metrics.mean_squared_error(y_test, y_pred)"
   ]
  },
  {
   "cell_type": "code",
   "execution_count": 37,
   "metadata": {},
   "outputs": [
    {
     "data": {
      "text/plain": [
       "0.9824357133449162"
      ]
     },
     "execution_count": 37,
     "metadata": {},
     "output_type": "execute_result"
    }
   ],
   "source": [
    "metrics.r2_score(y_test, y_pred)"
   ]
  },
  {
   "cell_type": "code",
   "execution_count": null,
   "metadata": {},
   "outputs": [],
   "source": []
  }
 ],
 "metadata": {
  "kernelspec": {
   "display_name": "Python 3",
   "language": "python",
   "name": "python3"
  },
  "language_info": {
   "codemirror_mode": {
    "name": "ipython",
    "version": 3
   },
   "file_extension": ".py",
   "mimetype": "text/x-python",
   "name": "python",
   "nbconvert_exporter": "python",
   "pygments_lexer": "ipython3",
   "version": "3.7.1"
  }
 },
 "nbformat": 4,
 "nbformat_minor": 2
}
